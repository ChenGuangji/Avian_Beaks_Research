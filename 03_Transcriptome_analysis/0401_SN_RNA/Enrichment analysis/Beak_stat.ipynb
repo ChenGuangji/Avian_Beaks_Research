{
 "cells": [
  {
   "cell_type": "code",
   "execution_count": 1,
   "id": "618f186a-6f63-465d-b5a4-b6b85e60c9eb",
   "metadata": {
    "collapsed": true,
    "jupyter": {
     "outputs_hidden": true
    }
   },
   "outputs": [
    {
     "name": "stderr",
     "output_type": "stream",
     "text": [
      "\n",
      "Attaching package: ‘dplyr’\n",
      "\n",
      "\n",
      "The following objects are masked from ‘package:stats’:\n",
      "\n",
      "    filter, lag\n",
      "\n",
      "\n",
      "The following objects are masked from ‘package:base’:\n",
      "\n",
      "    intersect, setdiff, setequal, union\n",
      "\n",
      "\n"
     ]
    }
   ],
   "source": [
    "#library(Seurat)\n",
    "library(dplyr)\n",
    "library(ggplot2)\n",
    "library(tibble)\n",
    "library(tidyr)\n",
    "library(stringr)\n",
    "set.seed(1234)"
   ]
  },
  {
   "cell_type": "code",
   "execution_count": 2,
   "id": "b8f2623e-fd9f-44ee-b8e3-57fe0dd4e4c8",
   "metadata": {},
   "outputs": [],
   "source": [
    "setwd(\"/share/home/zhanglab/user/chenguangji/01.project/03.B10K_Beak/10.New_RBG_test/00_Enrichment_Test\")"
   ]
  },
  {
   "cell_type": "markdown",
   "id": "1007957b-a7a9-4f4d-b6cb-c73b38b6e93c",
   "metadata": {},
   "source": [
    "### Test RGB model sites"
   ]
  },
  {
   "cell_type": "code",
   "execution_count": 3,
   "id": "f1affe1a-3318-484a-b40e-307895585eea",
   "metadata": {},
   "outputs": [
    {
     "data": {
      "text/html": [
       "<table class=\"dataframe\">\n",
       "<caption>A data.frame: 4 × 3</caption>\n",
       "<thead>\n",
       "\t<tr><th></th><th scope=col>type</th><th scope=col>Site Number</th><th scope=col>Gene Number</th></tr>\n",
       "\t<tr><th></th><th scope=col>&lt;chr&gt;</th><th scope=col>&lt;chr&gt;</th><th scope=col>&lt;chr&gt;</th></tr>\n",
       "</thead>\n",
       "<tbody>\n",
       "\t<tr><th scope=row>1</th><td>BD       </td><td>2111</td><td>1413</td></tr>\n",
       "\t<tr><th scope=row>2</th><td>BL       </td><td>2076</td><td>1431</td></tr>\n",
       "\t<tr><th scope=row>3</th><td>BW       </td><td>2144</td><td>1399</td></tr>\n",
       "\t<tr><th scope=row>4</th><td>Totol_RGB</td><td>5520</td><td>2877</td></tr>\n",
       "</tbody>\n",
       "</table>\n"
      ],
      "text/latex": [
       "A data.frame: 4 × 3\n",
       "\\begin{tabular}{r|lll}\n",
       "  & type & Site Number & Gene Number\\\\\n",
       "  & <chr> & <chr> & <chr>\\\\\n",
       "\\hline\n",
       "\t1 & BD        & 2111 & 1413\\\\\n",
       "\t2 & BL        & 2076 & 1431\\\\\n",
       "\t3 & BW        & 2144 & 1399\\\\\n",
       "\t4 & Totol\\_RGB & 5520 & 2877\\\\\n",
       "\\end{tabular}\n"
      ],
      "text/markdown": [
       "\n",
       "A data.frame: 4 × 3\n",
       "\n",
       "| <!--/--> | type &lt;chr&gt; | Site Number &lt;chr&gt; | Gene Number &lt;chr&gt; |\n",
       "|---|---|---|---|\n",
       "| 1 | BD        | 2111 | 1413 |\n",
       "| 2 | BL        | 2076 | 1431 |\n",
       "| 3 | BW        | 2144 | 1399 |\n",
       "| 4 | Totol_RGB | 5520 | 2877 |\n",
       "\n"
      ],
      "text/plain": [
       "  type      Site Number Gene Number\n",
       "1 BD        2111        1413       \n",
       "2 BL        2076        1431       \n",
       "3 BW        2144        1399       \n",
       "4 Totol_RGB 5520        2877       "
      ]
     },
     "metadata": {},
     "output_type": "display_data"
    }
   ],
   "source": [
    "### RGB stat\n",
    "RBG_all<-read.table(\"./RGB_site.txt\",header=T)\n",
    "#print(\"Totol Site Number\")\n",
    "#length(unique(RBG_all$feature))\n",
    "RBG_all$geneid=paste0(\"GALGAL-\",str_split_fixed(RBG_all$feature,\"_\",3)[,2])\n",
    "\n",
    "RBG_all_gene<-unique(paste0(\"GALGAL-\",str_split_fixed(RBG_all$feature,\"_\",3)[,2]))\n",
    "#print(\"Totol Gene Number\")\n",
    "#length(RBG_all_gene)\n",
    "\n",
    "RGB.stat.df<-merge(data.frame(table(RBG_all$note)),\n",
    "                   data.frame(table((unique(RBG_all %>% select(\"note\",\"geneid\")))$note)),\n",
    "                   by.x=\"Var1\",by.y=\"Var1\")\n",
    "names(RGB.stat.df)<-c(\"type\",\"Site Number\",\"Gene Number\")\n",
    "RGB.stat.df$type=as.character(RGB.stat.df$type)\n",
    "RGB.stat.df[4,]=c(\"Totol_RGB\",length(unique(RBG_all$feature)),length(RBG_all_gene))\n",
    "\n",
    "RGB.stat.df"
   ]
  },
  {
   "cell_type": "code",
   "execution_count": 5,
   "id": "08ac9b51-d80d-42f4-b40b-2a1196a613a1",
   "metadata": {},
   "outputs": [],
   "source": [
    "### RGB All AverageExpression (CPM)\n",
    "#all_cpm<-read.csv(\"./All_AverageExpression_gene.csv\")\n",
    "all_cpm<-read.csv(\"./All_AverageExpression_gene_15881.csv\",row.names=1)\n",
    "names(all_cpm)<-c(\"geneid\",\"HH29_Beak\",\"HH30_Beak\",\"HH36_Beak\",\"HH38_Beak\")\n",
    "#head(all_cpm)\n",
    "\n",
    "### High expression\n",
    "HH29_beak_highexpression<-read.csv(\"./HH29beak_high_expression_genes.csv\")\n",
    "HH30_beak_highexpression<-read.csv(\"./HH30beak_high_expression_genes.csv\")\n",
    "\n",
    "HH36_beak_highexpression<-read.csv(\"./HH36beak_high_expression_genes.csv\")\n",
    "HH38_beak_highexpression<-read.csv(\"./HH38beak_high_expression_genes.csv\")\n",
    "\n",
    "### highly variable genes\n",
    "HH29_beak_highvariable<-read.csv(\"./HH29beak_highly_variable_genes.csv\")\n",
    "HH30_beak_highvariable<-read.csv(\"./HH30beak_highly_variable_genes.csv\")\n",
    "\n",
    "HH36_beak_highvariable<-read.csv(\"./HH36beak_highly_variable_genes.csv\")\n",
    "HH38_beak_highvariable<-read.csv(\"./HH38beak_highly_variable_genes.csv\")\n",
    "\n",
    "### Differential expression gene\n",
    "HH2930_HH3638_beak_DEG<-read.csv(\"./HH2930_HH3638_Beak_volcano_data.csv\") %>% filter(Signif!=\"not significant\")"
   ]
  },
  {
   "cell_type": "code",
   "execution_count": 6,
   "id": "e3fc5f1f-0015-4960-8320-2864369d8ff7",
   "metadata": {},
   "outputs": [
    {
     "data": {
      "text/html": [
       "<style>\n",
       ".list-inline {list-style: none; margin:0; padding: 0}\n",
       ".list-inline>li {display: inline-block}\n",
       ".list-inline>li:not(:last-child)::after {content: \"\\00b7\"; padding: 0 .5ex}\n",
       "</style>\n",
       "<ol class=list-inline><li>15881</li><li>3259</li><li>2940</li><li>4425</li><li>3188</li><li>4913</li></ol>\n"
      ],
      "text/latex": [
       "\\begin{enumerate*}\n",
       "\\item 15881\n",
       "\\item 3259\n",
       "\\item 2940\n",
       "\\item 4425\n",
       "\\item 3188\n",
       "\\item 4913\n",
       "\\end{enumerate*}\n"
      ],
      "text/markdown": [
       "1. 15881\n",
       "2. 3259\n",
       "3. 2940\n",
       "4. 4425\n",
       "5. 3188\n",
       "6. 4913\n",
       "\n",
       "\n"
      ],
      "text/plain": [
       "[1] 15881  3259  2940  4425  3188  4913"
      ]
     },
     "metadata": {},
     "output_type": "display_data"
    },
    {
     "data": {
      "text/html": [
       "<style>\n",
       ".list-inline {list-style: none; margin:0; padding: 0}\n",
       ".list-inline>li {display: inline-block}\n",
       ".list-inline>li:not(:last-child)::after {content: \"\\00b7\"; padding: 0 .5ex}\n",
       "</style>\n",
       "<ol class=list-inline><li>2877</li><li>648</li><li>577</li><li>929</li><li>614</li><li>1028</li></ol>\n"
      ],
      "text/latex": [
       "\\begin{enumerate*}\n",
       "\\item 2877\n",
       "\\item 648\n",
       "\\item 577\n",
       "\\item 929\n",
       "\\item 614\n",
       "\\item 1028\n",
       "\\end{enumerate*}\n"
      ],
      "text/markdown": [
       "1. 2877\n",
       "2. 648\n",
       "3. 577\n",
       "4. 929\n",
       "5. 614\n",
       "6. 1028\n",
       "\n",
       "\n"
      ],
      "text/plain": [
       "[1] 2877  648  577  929  614 1028"
      ]
     },
     "metadata": {},
     "output_type": "display_data"
    },
    {
     "data": {
      "text/html": [
       "<style>\n",
       ".list-inline {list-style: none; margin:0; padding: 0}\n",
       ".list-inline>li {display: inline-block}\n",
       ".list-inline>li:not(:last-child)::after {content: \"\\00b7\"; padding: 0 .5ex}\n",
       "</style>\n",
       "<ol class=list-inline><li>15881</li><li>1824</li><li>1777</li><li>1909</li><li>1712</li><li>2975</li></ol>\n"
      ],
      "text/latex": [
       "\\begin{enumerate*}\n",
       "\\item 15881\n",
       "\\item 1824\n",
       "\\item 1777\n",
       "\\item 1909\n",
       "\\item 1712\n",
       "\\item 2975\n",
       "\\end{enumerate*}\n"
      ],
      "text/markdown": [
       "1. 15881\n",
       "2. 1824\n",
       "3. 1777\n",
       "4. 1909\n",
       "5. 1712\n",
       "6. 2975\n",
       "\n",
       "\n"
      ],
      "text/plain": [
       "[1] 15881  1824  1777  1909  1712  2975"
      ]
     },
     "metadata": {},
     "output_type": "display_data"
    },
    {
     "data": {
      "text/html": [
       "<style>\n",
       ".list-inline {list-style: none; margin:0; padding: 0}\n",
       ".list-inline>li {display: inline-block}\n",
       ".list-inline>li:not(:last-child)::after {content: \"\\00b7\"; padding: 0 .5ex}\n",
       "</style>\n",
       "<ol class=list-inline><li>2877</li><li>390</li><li>370</li><li>411</li><li>337</li><li>642</li></ol>\n"
      ],
      "text/latex": [
       "\\begin{enumerate*}\n",
       "\\item 2877\n",
       "\\item 390\n",
       "\\item 370\n",
       "\\item 411\n",
       "\\item 337\n",
       "\\item 642\n",
       "\\end{enumerate*}\n"
      ],
      "text/markdown": [
       "1. 2877\n",
       "2. 390\n",
       "3. 370\n",
       "4. 411\n",
       "5. 337\n",
       "6. 642\n",
       "\n",
       "\n"
      ],
      "text/plain": [
       "[1] 2877  390  370  411  337  642"
      ]
     },
     "metadata": {},
     "output_type": "display_data"
    },
    {
     "data": {
      "text/html": [
       "<style>\n",
       ".list-inline {list-style: none; margin:0; padding: 0}\n",
       ".list-inline>li {display: inline-block}\n",
       ".list-inline>li:not(:last-child)::after {content: \"\\00b7\"; padding: 0 .5ex}\n",
       "</style>\n",
       "<ol class=list-inline><li>15881</li><li>410</li><li>424</li><li>460</li><li>453</li><li>796</li></ol>\n"
      ],
      "text/latex": [
       "\\begin{enumerate*}\n",
       "\\item 15881\n",
       "\\item 410\n",
       "\\item 424\n",
       "\\item 460\n",
       "\\item 453\n",
       "\\item 796\n",
       "\\end{enumerate*}\n"
      ],
      "text/markdown": [
       "1. 15881\n",
       "2. 410\n",
       "3. 424\n",
       "4. 460\n",
       "5. 453\n",
       "6. 796\n",
       "\n",
       "\n"
      ],
      "text/plain": [
       "[1] 15881   410   424   460   453   796"
      ]
     },
     "metadata": {},
     "output_type": "display_data"
    },
    {
     "data": {
      "text/html": [
       "<style>\n",
       ".list-inline {list-style: none; margin:0; padding: 0}\n",
       ".list-inline>li {display: inline-block}\n",
       ".list-inline>li:not(:last-child)::after {content: \"\\00b7\"; padding: 0 .5ex}\n",
       "</style>\n",
       "<ol class=list-inline><li>2877</li><li>88</li><li>95</li><li>97</li><li>96</li><li>166</li></ol>\n"
      ],
      "text/latex": [
       "\\begin{enumerate*}\n",
       "\\item 2877\n",
       "\\item 88\n",
       "\\item 95\n",
       "\\item 97\n",
       "\\item 96\n",
       "\\item 166\n",
       "\\end{enumerate*}\n"
      ],
      "text/markdown": [
       "1. 2877\n",
       "2. 88\n",
       "3. 95\n",
       "4. 97\n",
       "5. 96\n",
       "6. 166\n",
       "\n",
       "\n"
      ],
      "text/plain": [
       "[1] 2877   88   95   97   96  166"
      ]
     },
     "metadata": {},
     "output_type": "display_data"
    },
    {
     "data": {
      "text/html": [
       "<style>\n",
       ".list-inline {list-style: none; margin:0; padding: 0}\n",
       ".list-inline>li {display: inline-block}\n",
       ".list-inline>li:not(:last-child)::after {content: \"\\00b7\"; padding: 0 .5ex}\n",
       "</style>\n",
       "<ol class=list-inline><li>15881</li><li>90</li><li>78</li><li>833</li><li>209</li><li>1210</li></ol>\n"
      ],
      "text/latex": [
       "\\begin{enumerate*}\n",
       "\\item 15881\n",
       "\\item 90\n",
       "\\item 78\n",
       "\\item 833\n",
       "\\item 209\n",
       "\\item 1210\n",
       "\\end{enumerate*}\n"
      ],
      "text/markdown": [
       "1. 15881\n",
       "2. 90\n",
       "3. 78\n",
       "4. 833\n",
       "5. 209\n",
       "6. 1210\n",
       "\n",
       "\n"
      ],
      "text/plain": [
       "[1] 15881    90    78   833   209  1210"
      ]
     },
     "metadata": {},
     "output_type": "display_data"
    },
    {
     "data": {
      "text/html": [
       "<style>\n",
       ".list-inline {list-style: none; margin:0; padding: 0}\n",
       ".list-inline>li {display: inline-block}\n",
       ".list-inline>li:not(:last-child)::after {content: \"\\00b7\"; padding: 0 .5ex}\n",
       "</style>\n",
       "<ol class=list-inline><li>2877</li><li>18</li><li>14</li><li>197</li><li>46</li><li>275</li></ol>\n"
      ],
      "text/latex": [
       "\\begin{enumerate*}\n",
       "\\item 2877\n",
       "\\item 18\n",
       "\\item 14\n",
       "\\item 197\n",
       "\\item 46\n",
       "\\item 275\n",
       "\\end{enumerate*}\n"
      ],
      "text/markdown": [
       "1. 2877\n",
       "2. 18\n",
       "3. 14\n",
       "4. 197\n",
       "5. 46\n",
       "6. 275\n",
       "\n",
       "\n"
      ],
      "text/plain": [
       "[1] 2877   18   14  197   46  275"
      ]
     },
     "metadata": {},
     "output_type": "display_data"
    },
    {
     "data": {
      "text/html": [
       "<style>\n",
       ".list-inline {list-style: none; margin:0; padding: 0}\n",
       ".list-inline>li {display: inline-block}\n",
       ".list-inline>li:not(:last-child)::after {content: \"\\00b7\"; padding: 0 .5ex}\n",
       "</style>\n",
       "<ol class=list-inline><li>15881</li><li>4635</li><li>4635</li></ol>\n"
      ],
      "text/latex": [
       "\\begin{enumerate*}\n",
       "\\item 15881\n",
       "\\item 4635\n",
       "\\item 4635\n",
       "\\end{enumerate*}\n"
      ],
      "text/markdown": [
       "1. 15881\n",
       "2. 4635\n",
       "3. 4635\n",
       "\n",
       "\n"
      ],
      "text/plain": [
       "[1] 15881  4635  4635"
      ]
     },
     "metadata": {},
     "output_type": "display_data"
    },
    {
     "data": {
      "text/html": [
       "<style>\n",
       ".list-inline {list-style: none; margin:0; padding: 0}\n",
       ".list-inline>li {display: inline-block}\n",
       ".list-inline>li:not(:last-child)::after {content: \"\\00b7\"; padding: 0 .5ex}\n",
       "</style>\n",
       "<ol class=list-inline><li>2877</li><li>928</li><li>928</li></ol>\n"
      ],
      "text/latex": [
       "\\begin{enumerate*}\n",
       "\\item 2877\n",
       "\\item 928\n",
       "\\item 928\n",
       "\\end{enumerate*}\n"
      ],
      "text/markdown": [
       "1. 2877\n",
       "2. 928\n",
       "3. 928\n",
       "\n",
       "\n"
      ],
      "text/plain": [
       "[1] 2877  928  928"
      ]
     },
     "metadata": {},
     "output_type": "display_data"
    }
   ],
   "source": [
    "### AverageExpression (CPM)\n",
    "stat_CPM <- function(df,cutoff=1) {\n",
    "  gene_num=dim(df)[1]\n",
    "  #Exp_HH29E=table(df$HH29_Wholeembryo>cutoff)[[\"TRUE\"]]\n",
    "  Exp_HH29B=table(df$HH29_Beak>cutoff)[[\"TRUE\"]]\n",
    "  Exp_HH30B=table(df$HH30_Beak>cutoff)[[\"TRUE\"]]\n",
    "  Exp_HH36B=table(df$HH36_Beak>cutoff)[[\"TRUE\"]]\n",
    "  Exp_HH38B=table(df$HH38_Beak>cutoff)[[\"TRUE\"]]\n",
    "  beak_expression<-unique(c(df$geneid[df$HH29_Beak>cutoff],df$geneid[df$HH30_Beak>cutoff],\n",
    "                            df$geneid[df$HH36_Beak>cutoff],df$geneid[df$HH38_Beak>cutoff]))\n",
    "  return(list(stat=c(gene_num,#Exp_HH29E,\n",
    "                     Exp_HH29B,Exp_HH30B,Exp_HH36B,Exp_HH38B,\n",
    "                     length(beak_expression)),\n",
    "              beakGene=beak_expression))\n",
    "}\n",
    "\n",
    "stat_CPM(all_cpm)$stat\n",
    "stat_CPM(all_cpm %>% filter(geneid %in% RBG_all_gene) )$stat\n",
    "\n",
    "### High expression\n",
    "stat_highexp <- function(df,cutoff=1) {\n",
    "  gene_num=dim(df)[1]  \n",
    "  #Exp_HH29E=dim(df[df$HH29_Wholeembryo>cutoff,] %>% filter(geneid %in% HH29_embryo_highexpression$gene))[1]\n",
    "  Exp_HH29B=dim(df[df$HH29_Beak>cutoff,] %>% filter(geneid %in% HH29_beak_highexpression$gene))[1]\n",
    "  Exp_HH30B=dim(df[df$HH30_Beak>cutoff,] %>% filter(geneid %in% HH30_beak_highexpression$gene))[1]\n",
    "  Exp_HH36B=dim(df[df$HH36_Beak>cutoff,] %>% filter(geneid %in% HH36_beak_highexpression$gene))[1]\n",
    "  Exp_HH38B=dim(df[df$HH38_Beak>cutoff,] %>% filter(geneid %in% HH38_beak_highexpression$gene))[1]\n",
    "  \n",
    "  beak_expression<-unique(c((df[df$HH29_Beak>cutoff,] %>% filter(geneid %in% HH29_beak_highexpression$gene))$geneid,\n",
    "                            (df[df$HH30_Beak>cutoff,] %>% filter(geneid %in% HH30_beak_highexpression$gene))$geneid,\n",
    "                            (df[df$HH36_Beak>cutoff,] %>% filter(geneid %in% HH36_beak_highexpression$gene))$geneid,\n",
    "                            (df[df$HH38_Beak>cutoff,] %>% filter(geneid %in% HH38_beak_highexpression$gene))$geneid))\n",
    "  return(list(stat=c(gene_num,#Exp_HH29E,\n",
    "                     Exp_HH29B,Exp_HH30B,Exp_HH36B,Exp_HH38B,\n",
    "                     length(beak_expression)),\n",
    "              beakGene=beak_expression))\n",
    "}\n",
    "\n",
    "stat_highexp(all_cpm)$stat\n",
    "stat_highexp(all_cpm %>% filter(geneid %in% RBG_all_gene) )$stat\n",
    "\n",
    "### highly variable genes\n",
    "stat_highvar <- function(df,cutoff=1) {\n",
    "  gene_num=dim(df)[1]  \n",
    "  #Exp_HH29E=dim(df[df$HH29_Wholeembryo>cutoff,] %>% filter(X %in% HH29_embryo_highvariable$gene))[1]\n",
    "  Exp_HH29B=dim(df[df$HH29_Beak>cutoff,] %>% filter(geneid %in% HH29_beak_highvariable$gene))[1]\n",
    "  Exp_HH30B=dim(df[df$HH30_Beak>cutoff,] %>% filter(geneid %in% HH30_beak_highvariable$gene))[1]\n",
    "  Exp_HH36B=dim(df[df$HH36_Beak>cutoff,] %>% filter(geneid %in% HH36_beak_highvariable$gene))[1]\n",
    "  Exp_HH38B=dim(df[df$HH38_Beak>cutoff,] %>% filter(geneid %in% HH38_beak_highvariable$gene))[1]\n",
    "  \n",
    "  beak_expression<-unique(c((df[df$HH29_Beak>cutoff,] %>% filter(geneid %in% HH29_beak_highvariable$gene))$geneid,\n",
    "                            (df[df$HH30_Beak>cutoff,] %>% filter(geneid %in% HH30_beak_highvariable$gene))$geneid,\n",
    "                            (df[df$HH36_Beak>cutoff,] %>% filter(geneid %in% HH36_beak_highvariable$gene))$geneid,\n",
    "                            (df[df$HH38_Beak>cutoff,] %>% filter(geneid %in% HH38_beak_highvariable$gene))$geneid))\n",
    "  return(list(stat=c(gene_num,#Exp_HH29E,\n",
    "                     Exp_HH29B,Exp_HH30B,Exp_HH36B,Exp_HH38B,\n",
    "                     length(beak_expression)),\n",
    "              beakGene=beak_expression))\n",
    "}\n",
    "\n",
    "stat_highvar(all_cpm)$stat\n",
    "stat_highvar(all_cpm %>% filter(geneid %in% RBG_all_gene) )$stat\n",
    "\n",
    "### beak development-period specific gene\n",
    "stat_specific_onlybeak <- function(df_pre,cutoff=1) {\n",
    "  df.tmp=df_pre %>% select(\"HH29_Beak\",\"HH30_Beak\",\"HH36_Beak\",\"HH38_Beak\")\n",
    "  df.tmp[df.tmp<cutoff]=NA ### cut-off CPM < 1\n",
    "  df=cbind.data.frame(df_pre[,1],df.tmp)\n",
    "  names(df)[1]=\"gene\"\n",
    "  df=df %>% select(\"gene\",\"HH29_Beak\",\"HH30_Beak\",\"HH36_Beak\",\"HH38_Beak\")\n",
    "  gene_num=dim(df)[1]  \n",
    "  \n",
    "  Exp_HH29B=dim((df %>% filter(HH29_Beak>0) %>% filter(rowSums(is.na(.)) >= 3)))[1]\n",
    "  Exp_HH30B=dim((df %>% filter(HH30_Beak>0) %>% filter(rowSums(is.na(.)) >= 3)))[1]\n",
    "  Exp_HH36B=dim((df %>% filter(HH36_Beak>0) %>% filter(rowSums(is.na(.)) >= 3)))[1]\n",
    "  Exp_HH38B=dim((df %>% filter(HH38_Beak>0) %>% filter(rowSums(is.na(.)) >= 3)))[1]\n",
    "  \n",
    "  beak_expression<-unique(c((df %>% filter(HH29_Beak>0) %>% filter(rowSums(is.na(.)) >= 3))$gene,\n",
    "                            (df %>% filter(HH30_Beak>0) %>% filter(rowSums(is.na(.)) >= 3))$gene,\n",
    "                            (df %>% filter(HH36_Beak>0) %>% filter(rowSums(is.na(.)) >= 3))$gene,\n",
    "                            (df %>% filter(HH38_Beak>0) %>% filter(rowSums(is.na(.)) >= 3))$gene))\n",
    "  return(list(stat=c(gene_num,Exp_HH29B,Exp_HH30B,Exp_HH36B,Exp_HH38B,length(beak_expression)),beakGene=beak_expression))\n",
    "}\n",
    "\n",
    "stat_specific_onlybeak(all_cpm)$stat\n",
    "stat_specific_onlybeak(all_cpm %>% filter(geneid %in% RBG_all_gene) )$stat\n",
    "\n",
    "### Differential expression gene\n",
    "stat_DEG <- function(df) {\n",
    "  gene_num=dim(df)[1]  \n",
    "  #Exp_HH29_BtoE=dim(df %>% filter(geneid %in% HH29_beak_to_embryo_DEG$gene))[1]\n",
    "  #Exp_HH29303638_BtoE=dim(df %>% filter(geneid %in% HH29303638_beak_to_embryo_DEG$gene))[1]\n",
    "  Exp_HH2930_H3638_B=dim(df %>% filter(geneid %in% HH2930_HH3638_beak_DEG$gene))[1]\n",
    "  \n",
    "  beak_expression<-unique(c(#(df %>% filter(geneid %in% HH29_beak_to_embryo_DEG$gene))$geneid,\n",
    "                            #(df %>% filter(geneid %in% HH29303638_beak_to_embryo_DEG$gene))$geneid,\n",
    "                            (df %>% filter(geneid %in% HH2930_HH3638_beak_DEG$gene))$geneid))\n",
    "  return(list(stat=c(gene_num,#Exp_HH29_BtoE,Exp_HH29303638_BtoE,\n",
    "                     Exp_HH2930_H3638_B,length(beak_expression)),beakGene=beak_expression))\n",
    "}\n",
    "stat_DEG(all_cpm)$stat\n",
    "stat_DEG(all_cpm %>% filter(geneid %in% RBG_all_gene) )$stat\n"
   ]
  },
  {
   "cell_type": "code",
   "execution_count": 7,
   "id": "ffcac847-3dc1-4887-9539-e9e821849783",
   "metadata": {},
   "outputs": [
    {
     "data": {
      "text/html": [
       "<style>\n",
       ".list-inline {list-style: none; margin:0; padding: 0}\n",
       ".list-inline>li {display: inline-block}\n",
       ".list-inline>li:not(:last-child)::after {content: \"\\00b7\"; padding: 0 .5ex}\n",
       "</style>\n",
       "<ol class=list-inline><li>4913</li><li>5</li></ol>\n"
      ],
      "text/latex": [
       "\\begin{enumerate*}\n",
       "\\item 4913\n",
       "\\item 5\n",
       "\\end{enumerate*}\n"
      ],
      "text/markdown": [
       "1. 4913\n",
       "2. 5\n",
       "\n",
       "\n"
      ],
      "text/plain": [
       "[1] 4913    5"
      ]
     },
     "metadata": {},
     "output_type": "display_data"
    },
    {
     "data": {
      "text/html": [
       "<table class=\"dataframe\">\n",
       "<caption>A data.frame: 6 × 5</caption>\n",
       "<thead>\n",
       "\t<tr><th></th><th scope=col>geneid</th><th scope=col>HH29_Beak</th><th scope=col>HH30_Beak</th><th scope=col>HH36_Beak</th><th scope=col>HH38_Beak</th></tr>\n",
       "\t<tr><th></th><th scope=col>&lt;chr&gt;</th><th scope=col>&lt;dbl&gt;</th><th scope=col>&lt;dbl&gt;</th><th scope=col>&lt;dbl&gt;</th><th scope=col>&lt;dbl&gt;</th></tr>\n",
       "</thead>\n",
       "<tbody>\n",
       "\t<tr><th scope=row>1</th><td>GALGAL-R00005</td><td>6.973376e+04</td><td>2.470418e+05</td><td>1.201461e+05</td><td>1.788498e+08</td></tr>\n",
       "\t<tr><th scope=row>2</th><td>GALGAL-R00007</td><td>5.911114e-01</td><td>6.596009e-01</td><td>1.210512e+00</td><td>3.735982e-01</td></tr>\n",
       "\t<tr><th scope=row>3</th><td>GALGAL-R00009</td><td>6.938090e-01</td><td>2.783748e+00</td><td>1.862883e+00</td><td>6.137192e-01</td></tr>\n",
       "\t<tr><th scope=row>4</th><td>GALGAL-R00015</td><td>3.944034e-01</td><td>3.054408e-01</td><td>1.032083e+00</td><td>2.211428e-01</td></tr>\n",
       "\t<tr><th scope=row>5</th><td>GALGAL-R00016</td><td>1.002269e-02</td><td>4.841957e-03</td><td>3.030301e-01</td><td>2.043245e+01</td></tr>\n",
       "\t<tr><th scope=row>6</th><td>GALGAL-R00018</td><td>2.430139e+00</td><td>3.560830e+00</td><td>7.791379e+00</td><td>3.570343e+00</td></tr>\n",
       "</tbody>\n",
       "</table>\n"
      ],
      "text/latex": [
       "A data.frame: 6 × 5\n",
       "\\begin{tabular}{r|lllll}\n",
       "  & geneid & HH29\\_Beak & HH30\\_Beak & HH36\\_Beak & HH38\\_Beak\\\\\n",
       "  & <chr> & <dbl> & <dbl> & <dbl> & <dbl>\\\\\n",
       "\\hline\n",
       "\t1 & GALGAL-R00005 & 6.973376e+04 & 2.470418e+05 & 1.201461e+05 & 1.788498e+08\\\\\n",
       "\t2 & GALGAL-R00007 & 5.911114e-01 & 6.596009e-01 & 1.210512e+00 & 3.735982e-01\\\\\n",
       "\t3 & GALGAL-R00009 & 6.938090e-01 & 2.783748e+00 & 1.862883e+00 & 6.137192e-01\\\\\n",
       "\t4 & GALGAL-R00015 & 3.944034e-01 & 3.054408e-01 & 1.032083e+00 & 2.211428e-01\\\\\n",
       "\t5 & GALGAL-R00016 & 1.002269e-02 & 4.841957e-03 & 3.030301e-01 & 2.043245e+01\\\\\n",
       "\t6 & GALGAL-R00018 & 2.430139e+00 & 3.560830e+00 & 7.791379e+00 & 3.570343e+00\\\\\n",
       "\\end{tabular}\n"
      ],
      "text/markdown": [
       "\n",
       "A data.frame: 6 × 5\n",
       "\n",
       "| <!--/--> | geneid &lt;chr&gt; | HH29_Beak &lt;dbl&gt; | HH30_Beak &lt;dbl&gt; | HH36_Beak &lt;dbl&gt; | HH38_Beak &lt;dbl&gt; |\n",
       "|---|---|---|---|---|---|\n",
       "| 1 | GALGAL-R00005 | 6.973376e+04 | 2.470418e+05 | 1.201461e+05 | 1.788498e+08 |\n",
       "| 2 | GALGAL-R00007 | 5.911114e-01 | 6.596009e-01 | 1.210512e+00 | 3.735982e-01 |\n",
       "| 3 | GALGAL-R00009 | 6.938090e-01 | 2.783748e+00 | 1.862883e+00 | 6.137192e-01 |\n",
       "| 4 | GALGAL-R00015 | 3.944034e-01 | 3.054408e-01 | 1.032083e+00 | 2.211428e-01 |\n",
       "| 5 | GALGAL-R00016 | 1.002269e-02 | 4.841957e-03 | 3.030301e-01 | 2.043245e+01 |\n",
       "| 6 | GALGAL-R00018 | 2.430139e+00 | 3.560830e+00 | 7.791379e+00 | 3.570343e+00 |\n",
       "\n"
      ],
      "text/plain": [
       "  geneid        HH29_Beak    HH30_Beak    HH36_Beak    HH38_Beak   \n",
       "1 GALGAL-R00005 6.973376e+04 2.470418e+05 1.201461e+05 1.788498e+08\n",
       "2 GALGAL-R00007 5.911114e-01 6.596009e-01 1.210512e+00 3.735982e-01\n",
       "3 GALGAL-R00009 6.938090e-01 2.783748e+00 1.862883e+00 6.137192e-01\n",
       "4 GALGAL-R00015 3.944034e-01 3.054408e-01 1.032083e+00 2.211428e-01\n",
       "5 GALGAL-R00016 1.002269e-02 4.841957e-03 3.030301e-01 2.043245e+01\n",
       "6 GALGAL-R00018 2.430139e+00 3.560830e+00 7.791379e+00 3.570343e+00"
      ]
     },
     "metadata": {},
     "output_type": "display_data"
    },
    {
     "data": {
      "text/html": [
       "<style>\n",
       ".list-inline {list-style: none; margin:0; padding: 0}\n",
       ".list-inline>li {display: inline-block}\n",
       ".list-inline>li:not(:last-child)::after {content: \"\\00b7\"; padding: 0 .5ex}\n",
       "</style>\n",
       "<ol class=list-inline><li>1028</li><li>5</li></ol>\n"
      ],
      "text/latex": [
       "\\begin{enumerate*}\n",
       "\\item 1028\n",
       "\\item 5\n",
       "\\end{enumerate*}\n"
      ],
      "text/markdown": [
       "1. 1028\n",
       "2. 5\n",
       "\n",
       "\n"
      ],
      "text/plain": [
       "[1] 1028    5"
      ]
     },
     "metadata": {},
     "output_type": "display_data"
    },
    {
     "data": {
      "text/html": [
       "<table class=\"dataframe\">\n",
       "<caption>A data.frame: 6 × 5</caption>\n",
       "<thead>\n",
       "\t<tr><th></th><th scope=col>geneid</th><th scope=col>HH29_Beak</th><th scope=col>HH30_Beak</th><th scope=col>HH36_Beak</th><th scope=col>HH38_Beak</th></tr>\n",
       "\t<tr><th></th><th scope=col>&lt;chr&gt;</th><th scope=col>&lt;dbl&gt;</th><th scope=col>&lt;dbl&gt;</th><th scope=col>&lt;dbl&gt;</th><th scope=col>&lt;dbl&gt;</th></tr>\n",
       "</thead>\n",
       "<tbody>\n",
       "\t<tr><th scope=row>1</th><td>GALGAL-R00025</td><td>1.133428e+00</td><td>7.840971e-01</td><td>2.122389e+00</td><td>  0.8999302</td></tr>\n",
       "\t<tr><th scope=row>2</th><td>GALGAL-R00030</td><td>2.930753e-01</td><td>2.693563e-01</td><td>8.752056e+00</td><td>147.2110994</td></tr>\n",
       "\t<tr><th scope=row>3</th><td>GALGAL-R00054</td><td>1.621757e+00</td><td>1.173708e+00</td><td>2.745157e+00</td><td>  3.1385786</td></tr>\n",
       "\t<tr><th scope=row>4</th><td>GALGAL-R00107</td><td>9.949346e+14</td><td>9.057737e+27</td><td>2.741432e+21</td><td>         NA</td></tr>\n",
       "\t<tr><th scope=row>5</th><td>GALGAL-R00122</td><td>3.930259e-01</td><td>4.050412e-01</td><td>1.578150e+00</td><td>  0.2756850</td></tr>\n",
       "\t<tr><th scope=row>6</th><td>GALGAL-R00209</td><td>3.409999e+00</td><td>3.369333e+00</td><td>8.521560e+01</td><td>  0.2090533</td></tr>\n",
       "</tbody>\n",
       "</table>\n"
      ],
      "text/latex": [
       "A data.frame: 6 × 5\n",
       "\\begin{tabular}{r|lllll}\n",
       "  & geneid & HH29\\_Beak & HH30\\_Beak & HH36\\_Beak & HH38\\_Beak\\\\\n",
       "  & <chr> & <dbl> & <dbl> & <dbl> & <dbl>\\\\\n",
       "\\hline\n",
       "\t1 & GALGAL-R00025 & 1.133428e+00 & 7.840971e-01 & 2.122389e+00 &   0.8999302\\\\\n",
       "\t2 & GALGAL-R00030 & 2.930753e-01 & 2.693563e-01 & 8.752056e+00 & 147.2110994\\\\\n",
       "\t3 & GALGAL-R00054 & 1.621757e+00 & 1.173708e+00 & 2.745157e+00 &   3.1385786\\\\\n",
       "\t4 & GALGAL-R00107 & 9.949346e+14 & 9.057737e+27 & 2.741432e+21 &          NA\\\\\n",
       "\t5 & GALGAL-R00122 & 3.930259e-01 & 4.050412e-01 & 1.578150e+00 &   0.2756850\\\\\n",
       "\t6 & GALGAL-R00209 & 3.409999e+00 & 3.369333e+00 & 8.521560e+01 &   0.2090533\\\\\n",
       "\\end{tabular}\n"
      ],
      "text/markdown": [
       "\n",
       "A data.frame: 6 × 5\n",
       "\n",
       "| <!--/--> | geneid &lt;chr&gt; | HH29_Beak &lt;dbl&gt; | HH30_Beak &lt;dbl&gt; | HH36_Beak &lt;dbl&gt; | HH38_Beak &lt;dbl&gt; |\n",
       "|---|---|---|---|---|---|\n",
       "| 1 | GALGAL-R00025 | 1.133428e+00 | 7.840971e-01 | 2.122389e+00 |   0.8999302 |\n",
       "| 2 | GALGAL-R00030 | 2.930753e-01 | 2.693563e-01 | 8.752056e+00 | 147.2110994 |\n",
       "| 3 | GALGAL-R00054 | 1.621757e+00 | 1.173708e+00 | 2.745157e+00 |   3.1385786 |\n",
       "| 4 | GALGAL-R00107 | 9.949346e+14 | 9.057737e+27 | 2.741432e+21 |          NA |\n",
       "| 5 | GALGAL-R00122 | 3.930259e-01 | 4.050412e-01 | 1.578150e+00 |   0.2756850 |\n",
       "| 6 | GALGAL-R00209 | 3.409999e+00 | 3.369333e+00 | 8.521560e+01 |   0.2090533 |\n",
       "\n"
      ],
      "text/plain": [
       "  geneid        HH29_Beak    HH30_Beak    HH36_Beak    HH38_Beak  \n",
       "1 GALGAL-R00025 1.133428e+00 7.840971e-01 2.122389e+00   0.8999302\n",
       "2 GALGAL-R00030 2.930753e-01 2.693563e-01 8.752056e+00 147.2110994\n",
       "3 GALGAL-R00054 1.621757e+00 1.173708e+00 2.745157e+00   3.1385786\n",
       "4 GALGAL-R00107 9.949346e+14 9.057737e+27 2.741432e+21          NA\n",
       "5 GALGAL-R00122 3.930259e-01 4.050412e-01 1.578150e+00   0.2756850\n",
       "6 GALGAL-R00209 3.409999e+00 3.369333e+00 8.521560e+01   0.2090533"
      ]
     },
     "metadata": {},
     "output_type": "display_data"
    }
   ],
   "source": [
    "all_cpm_beakGene <- unique(all_cpm %>% filter(geneid %in% stat_CPM(all_cpm)$beakGene))\n",
    "dim(all_cpm_beakGene)\n",
    "head(all_cpm_beakGene)\n",
    "\n",
    "all_cpm_RBG_all_gene <- all_cpm_beakGene %>% filter(geneid %in% RBG_all_gene)\n",
    "all_cpm_RBG_all_gene[sapply(all_cpm_RBG_all_gene, is.infinite)] <- NA\n",
    "dim(all_cpm_RBG_all_gene)\n",
    "head(all_cpm_RBG_all_gene)\n",
    "#write.csv(all_cpm_RBG_all_gene,\"././RGB_Sites_Beak_cpm_HH2930_HH3638_20240731_for_heatmap.csv\")"
   ]
  },
  {
   "cell_type": "code",
   "execution_count": 8,
   "id": "270c9c8d-1a5d-4118-b2fe-94f1519bcd9a",
   "metadata": {},
   "outputs": [],
   "source": [
    "fisher_test_batch<-function(All,df,beak_index=6){\n",
    "    all.cpm=stat_CPM(All)$stat #sc-RNA\n",
    "    all.highexp=stat_highexp(All)$stat #sc-RNA\n",
    "    all.highvar=stat_highvar(All)$stat #sc-RNA\n",
    "    #all.specific=stat_specific(All)$stat #sc-RNA\n",
    "    all.specific.ob=stat_specific_onlybeak(All)$stat #sc-RNA\n",
    "    all.DEG=stat_DEG(All)$stat #sc-RNA\n",
    "    \n",
    "    df.cpm=stat_CPM(df)$stat\n",
    "    df.highexp=stat_highexp(df)$stat\n",
    "    df.highvar=stat_highvar(df)$stat\n",
    "    #df.specific=stat_specific(df)$stat\n",
    "    df.specific.ob=stat_specific_onlybeak(df)$stat\n",
    "    df.DEG=stat_DEG(df)$stat\n",
    "\n",
    "    # Beak cpm\n",
    "    beak_all_cpm_pvalue=fisher.test(matrix(c(df.cpm[beak_index],dim(df)[1]-df.cpm[beak_index],all.cpm[beak_index]-df.cpm[beak_index], \n",
    "                                             all.cpm[1]-df.cpm[1]-all.cpm[beak_index]+df.cpm[beak_index]), \n",
    "                                           nrow = 2), alternative = \"greater\")[[\"p.value\"]]\n",
    "    beak_all_cpm_odd_value=fisher.test(matrix(c(df.cpm[beak_index],dim(df)[1]-df.cpm[beak_index],all.cpm[beak_index]-df.cpm[beak_index], \n",
    "                                                all.cpm[1]-df.cpm[1]-all.cpm[beak_index]+df.cpm[beak_index]), \n",
    "                                              nrow = 2), alternative = \"greater\")[[\"estimate\"]][[1]]\n",
    "    # Beak high-expression\n",
    "    beak_all_highexp_pvalue=fisher.test(matrix(c(df.highexp[beak_index], dim(df)[1]-df.highexp[beak_index], all.highexp[beak_index]-df.highexp[beak_index], all.highexp[1]-df.highexp[1]-all.highexp[beak_index]+df.highexp[beak_index]), nrow = 2), alternative = \"greater\")[[\"p.value\"]]\n",
    "    beak_all_highexp_odd_value=fisher.test(matrix(c(df.highexp[beak_index], dim(df)[1]-df.highexp[beak_index], all.highexp[beak_index]-df.highexp[beak_index], all.highexp[1]-df.highexp[1]-all.highexp[beak_index]+df.highexp[beak_index]), nrow = 2), alternative = \"greater\")[[\"estimate\"]][[1]]\n",
    "\n",
    "    # Beak high-variale gene\n",
    "    beak_all_highvar_pvalue=fisher.test(matrix(c(df.highvar[beak_index], dim(df)[1]-df.highvar[beak_index], all.highvar[beak_index]-df.highvar[beak_index], all.highvar[1]-df.highvar[1]-all.highvar[beak_index]+df.highvar[beak_index]), nrow = 2), alternative = \"greater\")[[\"p.value\"]]\n",
    "    beak_all_highvar_odd_value=fisher.test(matrix(c(df.highvar[beak_index], dim(df)[1]-df.highvar[beak_index], all.highvar[beak_index]-df.highvar[beak_index], all.highvar[1]-df.highvar[1]-all.highvar[beak_index]+df.highvar[beak_index]), nrow = 2), alternative = \"greater\")[[\"estimate\"]][[1]]\n",
    "\n",
    "    # Beak specific-only-beak\n",
    "    beak_all_specific.ob_pvalue=fisher.test(matrix(c(df.specific.ob[beak_index], dim(df)[1]-df.specific.ob[beak_index], all.specific.ob[beak_index]-df.specific.ob[beak_index], all.specific.ob[1]-df.specific.ob[1]-all.specific.ob[beak_index]+df.specific.ob[beak_index]), nrow = 2), alternative = \"greater\")[[\"p.value\"]]\n",
    "    beak_all_specific.ob_odd_value=fisher.test(matrix(c(df.specific.ob[beak_index], dim(df)[1]-df.specific.ob[beak_index], all.specific.ob[beak_index]-df.specific.ob[beak_index], all.specific.ob[1]-df.specific.ob[1]-all.specific.ob[beak_index]+df.specific.ob[beak_index]), nrow = 2), alternative = \"greater\")[[\"estimate\"]][[1]]\n",
    "\n",
    "    # Beak DEG\n",
    "    beak_all_DEG_pvalue=fisher.test(matrix(c(df.DEG[beak_index-3], dim(df)[1]-df.DEG[beak_index-3], all.DEG[beak_index-3]-df.DEG[beak_index-3], all.DEG[1]-df.DEG[1]-all.DEG[beak_index-3]+df.DEG[beak_index-3]), nrow = 2), alternative = \"greater\")[[\"p.value\"]]\n",
    "    beak_all_DEG_odd_value=fisher.test(matrix(c(df.DEG[beak_index-3], dim(df)[1]-df.DEG[beak_index-3], all.DEG[beak_index-3]-df.DEG[beak_index-3], all.DEG[1]-df.DEG[1]-all.DEG[beak_index-3]+df.DEG[beak_index-3]), nrow = 2), alternative = \"greater\")[[\"estimate\"]][[1]]\n",
    "    return(list(cpm=list(pvalue=c(beak_all_cpm_pvalue),oddvalue=c(beak_all_cpm_odd_value)),\n",
    "              highexp=list(pvalue=c(beak_all_highexp_pvalue),oddvalue=c(beak_all_highexp_odd_value)),\n",
    "              highvar=list(pvalue=c(beak_all_highvar_pvalue),oddvalue=c(beak_all_highvar_odd_value)),\n",
    "              #specific=list(pvalue=c(beak_all_specific_pvalue),oddvalue=c(beak_all_specific_odd_value)),\n",
    "              specific.ob=list(pvalue=c(beak_all_specific.ob_pvalue),oddvalue=c(beak_all_specific.ob_odd_value)),\n",
    "              DEG=list(pvalue=c(beak_all_DEG_pvalue),oddvalue=c(beak_all_DEG_odd_value))))\n",
    "}"
   ]
  },
  {
   "cell_type": "code",
   "execution_count": 9,
   "id": "2ab91422-1fe9-4958-90ca-5ec36fb53861",
   "metadata": {},
   "outputs": [
    {
     "data": {
      "text/html": [
       "<table class=\"dataframe\">\n",
       "<caption>A data.frame: 5 × 5</caption>\n",
       "<thead>\n",
       "\t<tr><th></th><th scope=col>Type</th><th scope=col>background</th><th scope=col>pvalue</th><th scope=col>oddvalue</th><th scope=col>Simulate</th></tr>\n",
       "\t<tr><th></th><th scope=col>&lt;chr&gt;</th><th scope=col>&lt;chr&gt;</th><th scope=col>&lt;chr&gt;</th><th scope=col>&lt;chr&gt;</th><th scope=col>&lt;chr&gt;</th></tr>\n",
       "</thead>\n",
       "<tbody>\n",
       "\t<tr><th scope=row>1</th><td>cpm        </td><td>RGB_model</td><td>6.49004134083638e-10</td><td>1.30493267771771</td><td>RGB_reslut</td></tr>\n",
       "\t<tr><th scope=row>2</th><td>highexp    </td><td>RGB_model</td><td>5.0577406570755e-08 </td><td>1.31383229890672</td><td>RGB_reslut</td></tr>\n",
       "\t<tr><th scope=row>3</th><td>highvar    </td><td>RGB_model</td><td>0.0235485967129932  </td><td>1.20265971623292</td><td>RGB_reslut</td></tr>\n",
       "\t<tr><th scope=row>4</th><td>specific.ob</td><td>RGB_model</td><td>1.42347808192663e-05</td><td>1.36419235046012</td><td>RGB_reslut</td></tr>\n",
       "\t<tr><th scope=row>5</th><td>DEG        </td><td>RGB_model</td><td>3.86997916012241e-05</td><td>1.19410739492576</td><td>RGB_reslut</td></tr>\n",
       "</tbody>\n",
       "</table>\n"
      ],
      "text/latex": [
       "A data.frame: 5 × 5\n",
       "\\begin{tabular}{r|lllll}\n",
       "  & Type & background & pvalue & oddvalue & Simulate\\\\\n",
       "  & <chr> & <chr> & <chr> & <chr> & <chr>\\\\\n",
       "\\hline\n",
       "\t1 & cpm         & RGB\\_model & 6.49004134083638e-10 & 1.30493267771771 & RGB\\_reslut\\\\\n",
       "\t2 & highexp     & RGB\\_model & 5.0577406570755e-08  & 1.31383229890672 & RGB\\_reslut\\\\\n",
       "\t3 & highvar     & RGB\\_model & 0.0235485967129932   & 1.20265971623292 & RGB\\_reslut\\\\\n",
       "\t4 & specific.ob & RGB\\_model & 1.42347808192663e-05 & 1.36419235046012 & RGB\\_reslut\\\\\n",
       "\t5 & DEG         & RGB\\_model & 3.86997916012241e-05 & 1.19410739492576 & RGB\\_reslut\\\\\n",
       "\\end{tabular}\n"
      ],
      "text/markdown": [
       "\n",
       "A data.frame: 5 × 5\n",
       "\n",
       "| <!--/--> | Type &lt;chr&gt; | background &lt;chr&gt; | pvalue &lt;chr&gt; | oddvalue &lt;chr&gt; | Simulate &lt;chr&gt; |\n",
       "|---|---|---|---|---|---|\n",
       "| 1 | cpm         | RGB_model | 6.49004134083638e-10 | 1.30493267771771 | RGB_reslut |\n",
       "| 2 | highexp     | RGB_model | 5.0577406570755e-08  | 1.31383229890672 | RGB_reslut |\n",
       "| 3 | highvar     | RGB_model | 0.0235485967129932   | 1.20265971623292 | RGB_reslut |\n",
       "| 4 | specific.ob | RGB_model | 1.42347808192663e-05 | 1.36419235046012 | RGB_reslut |\n",
       "| 5 | DEG         | RGB_model | 3.86997916012241e-05 | 1.19410739492576 | RGB_reslut |\n",
       "\n"
      ],
      "text/plain": [
       "  Type        background pvalue               oddvalue         Simulate  \n",
       "1 cpm         RGB_model  6.49004134083638e-10 1.30493267771771 RGB_reslut\n",
       "2 highexp     RGB_model  5.0577406570755e-08  1.31383229890672 RGB_reslut\n",
       "3 highvar     RGB_model  0.0235485967129932   1.20265971623292 RGB_reslut\n",
       "4 specific.ob RGB_model  1.42347808192663e-05 1.36419235046012 RGB_reslut\n",
       "5 DEG         RGB_model  3.86997916012241e-05 1.19410739492576 RGB_reslut"
      ]
     },
     "metadata": {},
     "output_type": "display_data"
    }
   ],
   "source": [
    "tmp.df=as.data.frame(fisher_test_batch(all_cpm,all_cpm %>% filter(geneid %in% RBG_all_gene)))\n",
    "RBG.out.all = data.frame(matrix(vector(), 0, 5,\n",
    "                dimnames=list(c(), c(\"Type\",\"background\",\"pvalue\",\"oddvalue\",\"Simulate\"))),\n",
    "                stringsAsFactors=F)\n",
    "i=\"RGB_reslut\"\n",
    "RBG.out.all[dim(RBG.out.all)[1]+1,] = c(\"cpm\",\"RGB_model\",tmp.df$cpm.pvalue[1],tmp.df$cpm.oddvalue[1],i)\n",
    "RBG.out.all[dim(RBG.out.all)[1]+1,] = c(\"highexp\",\"RGB_model\",tmp.df$highexp.pvalue[1],tmp.df$highexp.oddvalue[1],i)\n",
    "RBG.out.all[dim(RBG.out.all)[1]+1,] = c(\"highvar\",\"RGB_model\",tmp.df$highvar.pvalue[1],tmp.df$highvar.oddvalue[1],i)\n",
    "#RBG.out.all[dim(RBG.out.all)[1]+1,] = c(\"specific\",\"RGB_model\",tmp.df$specific.pvalue[1],tmp.df$specific.oddvalue[1],i)\n",
    "RBG.out.all[dim(RBG.out.all)[1]+1,] = c(\"specific.ob\",\"RGB_model\",tmp.df$specific.ob.pvalue[1],tmp.df$specific.ob.oddvalue[1],i)\n",
    "RBG.out.all[dim(RBG.out.all)[1]+1,] = c(\"DEG\",\"RGB_model\",tmp.df$DEG.pvalue[1],tmp.df$DEG.oddvalue[1],i)\n",
    "RBG.out.all"
   ]
  },
  {
   "cell_type": "code",
   "execution_count": 10,
   "id": "62f196ed-2a69-468e-bb56-2540973cb47c",
   "metadata": {
    "collapsed": true,
    "jupyter": {
     "outputs_hidden": true
    }
   },
   "outputs": [
    {
     "name": "stdout",
     "output_type": "stream",
     "text": [
      "  |======================================================================| 100%\n"
     ]
    },
    {
     "data": {
      "text/html": [
       "<table class=\"dataframe\">\n",
       "<caption>A data.frame: 50000 × 5</caption>\n",
       "<thead>\n",
       "\t<tr><th></th><th scope=col>Type</th><th scope=col>background</th><th scope=col>pvalue</th><th scope=col>oddvalue</th><th scope=col>Simulate</th></tr>\n",
       "\t<tr><th></th><th scope=col>&lt;chr&gt;</th><th scope=col>&lt;chr&gt;</th><th scope=col>&lt;chr&gt;</th><th scope=col>&lt;chr&gt;</th><th scope=col>&lt;chr&gt;</th></tr>\n",
       "</thead>\n",
       "<tbody>\n",
       "\t<tr><th scope=row>1</th><td>cpm        </td><td>random_test</td><td>0.561965546507089  </td><td>0.993977386431742</td><td>1</td></tr>\n",
       "\t<tr><th scope=row>2</th><td>highexp    </td><td>random_test</td><td>0.0978322770855835 </td><td>1.0713369092335  </td><td>1</td></tr>\n",
       "\t<tr><th scope=row>3</th><td>highvar    </td><td>random_test</td><td>0.00437885638610908</td><td>1.27145188419539 </td><td>1</td></tr>\n",
       "\t<tr><th scope=row>4</th><td>specific.ob</td><td>random_test</td><td>0.889357104373211  </td><td>0.910216655726144</td><td>1</td></tr>\n",
       "\t<tr><th scope=row>5</th><td>DEG        </td><td>random_test</td><td>0.991206259297046  </td><td>0.897871638275739</td><td>1</td></tr>\n",
       "\t<tr><th scope=row>6</th><td>cpm        </td><td>random_test</td><td>0.0435450317531383 </td><td>1.07971982014694 </td><td>2</td></tr>\n",
       "\t<tr><th scope=row>7</th><td>highexp    </td><td>random_test</td><td>0.0214352656014537 </td><td>1.11251370911869 </td><td>2</td></tr>\n",
       "\t<tr><th scope=row>8</th><td>highvar    </td><td>random_test</td><td>0.339727050455629  </td><td>1.0431614728054  </td><td>2</td></tr>\n",
       "\t<tr><th scope=row>9</th><td>specific.ob</td><td>random_test</td><td>0.426574268707167  </td><td>1.01693055789121 </td><td>2</td></tr>\n",
       "\t<tr><th scope=row>10</th><td>DEG        </td><td>random_test</td><td>0.088509073607824  </td><td>1.06372574361    </td><td>2</td></tr>\n",
       "\t<tr><th scope=row>11</th><td>cpm        </td><td>random_test</td><td>0.259256213390345  </td><td>1.03008855958415 </td><td>3</td></tr>\n",
       "\t<tr><th scope=row>12</th><td>highexp    </td><td>random_test</td><td>0.163630850634933  </td><td>1.05397426663599 </td><td>3</td></tr>\n",
       "\t<tr><th scope=row>13</th><td>highvar    </td><td>random_test</td><td>0.560403807802815  </td><td>0.989296145542093</td><td>3</td></tr>\n",
       "\t<tr><th scope=row>14</th><td>specific.ob</td><td>random_test</td><td>0.610702185143374  </td><td>0.980763405745188</td><td>3</td></tr>\n",
       "\t<tr><th scope=row>15</th><td>DEG        </td><td>random_test</td><td>0.34399906885139   </td><td>1.01929733885033 </td><td>3</td></tr>\n",
       "\t<tr><th scope=row>16</th><td>cpm        </td><td>random_test</td><td>0.0477929574399045 </td><td>1.07761446087716 </td><td>4</td></tr>\n",
       "\t<tr><th scope=row>17</th><td>highexp    </td><td>random_test</td><td>0.671262901710758  </td><td>0.977967268188676</td><td>4</td></tr>\n",
       "\t<tr><th scope=row>18</th><td>highvar    </td><td>random_test</td><td>0.702652969437614  </td><td>0.954048823798594</td><td>4</td></tr>\n",
       "\t<tr><th scope=row>19</th><td>specific.ob</td><td>random_test</td><td>0.00173052067069845</td><td>1.24709601946996 </td><td>4</td></tr>\n",
       "\t<tr><th scope=row>20</th><td>DEG        </td><td>random_test</td><td>0.693217163054084  </td><td>0.97824901755247 </td><td>4</td></tr>\n",
       "\t<tr><th scope=row>21</th><td>cpm        </td><td>random_test</td><td>0.863048460303805  </td><td>0.953091254891516</td><td>5</td></tr>\n",
       "\t<tr><th scope=row>22</th><td>highexp    </td><td>random_test</td><td>0.651895816820613  </td><td>0.980723698530243</td><td>5</td></tr>\n",
       "\t<tr><th scope=row>23</th><td>highvar    </td><td>random_test</td><td>0.339727050455629  </td><td>1.0431614728054  </td><td>5</td></tr>\n",
       "\t<tr><th scope=row>24</th><td>specific.ob</td><td>random_test</td><td>0.5498935974967    </td><td>0.992754247317286</td><td>5</td></tr>\n",
       "\t<tr><th scope=row>25</th><td>DEG        </td><td>random_test</td><td>0.0814973298334319 </td><td>1.06587747157268 </td><td>5</td></tr>\n",
       "\t<tr><th scope=row>26</th><td>cpm        </td><td>random_test</td><td>0.64766777442977   </td><td>0.98412610370534 </td><td>6</td></tr>\n",
       "\t<tr><th scope=row>27</th><td>highexp    </td><td>random_test</td><td>0.807249146779115  </td><td>0.956128995749   </td><td>6</td></tr>\n",
       "\t<tr><th scope=row>28</th><td>highvar    </td><td>random_test</td><td>0.410817996074886  </td><td>1.0250683522464  </td><td>6</td></tr>\n",
       "\t<tr><th scope=row>29</th><td>specific.ob</td><td>random_test</td><td>0.640261380478966  </td><td>0.97479169739669 </td><td>6</td></tr>\n",
       "\t<tr><th scope=row>30</th><td>DEG        </td><td>random_test</td><td>0.209411548121335  </td><td>1.03814182237685 </td><td>6</td></tr>\n",
       "\t<tr><th scope=row>⋮</th><td>⋮</td><td>⋮</td><td>⋮</td><td>⋮</td><td>⋮</td></tr>\n",
       "\t<tr><th scope=row>49971</th><td>cpm        </td><td>random_test</td><td>0.526619354123206</td><td>0.997938545972358</td><td>9995 </td></tr>\n",
       "\t<tr><th scope=row>49972</th><td>highexp    </td><td>random_test</td><td>0.651895816820613</td><td>0.980723698530243</td><td>9995 </td></tr>\n",
       "\t<tr><th scope=row>49973</th><td>highvar    </td><td>random_test</td><td>0.903275406490635</td><td>0.885181962782395</td><td>9995 </td></tr>\n",
       "\t<tr><th scope=row>49974</th><td>specific.ob</td><td>random_test</td><td>0.817976723846854</td><td>0.933490374245266</td><td>9995 </td></tr>\n",
       "\t<tr><th scope=row>49975</th><td>DEG        </td><td>random_test</td><td>0.34399906885139 </td><td>1.01929733885033 </td><td>9995 </td></tr>\n",
       "\t<tr><th scope=row>49976</th><td>cpm        </td><td>random_test</td><td>0.782608396546393</td><td>0.966577975286967</td><td>9996 </td></tr>\n",
       "\t<tr><th scope=row>49977</th><td>highexp    </td><td>random_test</td><td>0.726546503215493</td><td>0.969723373818554</td><td>9996 </td></tr>\n",
       "\t<tr><th scope=row>49978</th><td>highvar    </td><td>random_test</td><td>0.485224563594019</td><td>1.0071140031018  </td><td>9996 </td></tr>\n",
       "\t<tr><th scope=row>49979</th><td>specific.ob</td><td>random_test</td><td>0.92794754252291 </td><td>0.892940142260637</td><td>9996 </td></tr>\n",
       "\t<tr><th scope=row>49980</th><td>DEG        </td><td>random_test</td><td>0.914555783440268</td><td>0.940388774862551</td><td>9996 </td></tr>\n",
       "\t<tr><th scope=row>49981</th><td>cpm        </td><td>random_test</td><td>0.596835070843789</td><td>0.990028044455935</td><td>9997 </td></tr>\n",
       "\t<tr><th scope=row>49982</th><td>highexp    </td><td>random_test</td><td>0.690187677477166</td><td>0.975215073340069</td><td>9997 </td></tr>\n",
       "\t<tr><th scope=row>49983</th><td>highvar    </td><td>random_test</td><td>0.410817996074886</td><td>1.0250683522464  </td><td>9997 </td></tr>\n",
       "\t<tr><th scope=row>49984</th><td>specific.ob</td><td>random_test</td><td>0.610702185143374</td><td>0.980763405745188</td><td>9997 </td></tr>\n",
       "\t<tr><th scope=row>49985</th><td>DEG        </td><td>random_test</td><td>0.739323945349839</td><td>0.972199295736818</td><td>9997 </td></tr>\n",
       "\t<tr><th scope=row>49986</th><td>cpm        </td><td>random_test</td><td>0.561965546507089</td><td>0.993977386431742</td><td>9998 </td></tr>\n",
       "\t<tr><th scope=row>49987</th><td>highexp    </td><td>random_test</td><td>0.550112817269759</td><td>0.994570272424794</td><td>9998 </td></tr>\n",
       "\t<tr><th scope=row>49988</th><td>highvar    </td><td>random_test</td><td>0.243933758809191</td><td>1.07056344352548 </td><td>9998 </td></tr>\n",
       "\t<tr><th scope=row>49989</th><td>specific.ob</td><td>random_test</td><td>0.749228801338873</td><td>0.951062189394761</td><td>9998 </td></tr>\n",
       "\t<tr><th scope=row>49990</th><td>DEG        </td><td>random_test</td><td>0.739323945349839</td><td>0.972199295736818</td><td>9998 </td></tr>\n",
       "\t<tr><th scope=row>49991</th><td>cpm        </td><td>random_test</td><td>0.842461901601153</td><td>0.956930266731993</td><td>9999 </td></tr>\n",
       "\t<tr><th scope=row>49992</th><td>highexp    </td><td>random_test</td><td>0.760682989899601</td><td>0.964309602492469</td><td>9999 </td></tr>\n",
       "\t<tr><th scope=row>49993</th><td>highvar    </td><td>random_test</td><td>0.702652969437614</td><td>0.954048823798594</td><td>9999 </td></tr>\n",
       "\t<tr><th scope=row>49994</th><td>specific.ob</td><td>random_test</td><td>0.796462574116016</td><td>0.939352410399979</td><td>9999 </td></tr>\n",
       "\t<tr><th scope=row>49995</th><td>DEG        </td><td>random_test</td><td>0.863473669154933</td><td>0.952228628820945</td><td>9999 </td></tr>\n",
       "\t<tr><th scope=row>49996</th><td>cpm        </td><td>random_test</td><td>0.953185234859003</td><td>0.9284141721531  </td><td>10000</td></tr>\n",
       "\t<tr><th scope=row>49997</th><td>highexp    </td><td>random_test</td><td>0.919266708238867</td><td>0.929195807198241</td><td>10000</td></tr>\n",
       "\t<tr><th scope=row>49998</th><td>highvar    </td><td>random_test</td><td>0.339727050455629</td><td>1.0431614728054  </td><td>10000</td></tr>\n",
       "\t<tr><th scope=row>49999</th><td>specific.ob</td><td>random_test</td><td>0.796462574116016</td><td>0.939352410399979</td><td>10000</td></tr>\n",
       "\t<tr><th scope=row>50000</th><td>DEG        </td><td>random_test</td><td>0.44830301469108 </td><td>1.00684534739668 </td><td>10000</td></tr>\n",
       "</tbody>\n",
       "</table>\n"
      ],
      "text/latex": [
       "A data.frame: 50000 × 5\n",
       "\\begin{tabular}{r|lllll}\n",
       "  & Type & background & pvalue & oddvalue & Simulate\\\\\n",
       "  & <chr> & <chr> & <chr> & <chr> & <chr>\\\\\n",
       "\\hline\n",
       "\t1 & cpm         & random\\_test & 0.561965546507089   & 0.993977386431742 & 1\\\\\n",
       "\t2 & highexp     & random\\_test & 0.0978322770855835  & 1.0713369092335   & 1\\\\\n",
       "\t3 & highvar     & random\\_test & 0.00437885638610908 & 1.27145188419539  & 1\\\\\n",
       "\t4 & specific.ob & random\\_test & 0.889357104373211   & 0.910216655726144 & 1\\\\\n",
       "\t5 & DEG         & random\\_test & 0.991206259297046   & 0.897871638275739 & 1\\\\\n",
       "\t6 & cpm         & random\\_test & 0.0435450317531383  & 1.07971982014694  & 2\\\\\n",
       "\t7 & highexp     & random\\_test & 0.0214352656014537  & 1.11251370911869  & 2\\\\\n",
       "\t8 & highvar     & random\\_test & 0.339727050455629   & 1.0431614728054   & 2\\\\\n",
       "\t9 & specific.ob & random\\_test & 0.426574268707167   & 1.01693055789121  & 2\\\\\n",
       "\t10 & DEG         & random\\_test & 0.088509073607824   & 1.06372574361     & 2\\\\\n",
       "\t11 & cpm         & random\\_test & 0.259256213390345   & 1.03008855958415  & 3\\\\\n",
       "\t12 & highexp     & random\\_test & 0.163630850634933   & 1.05397426663599  & 3\\\\\n",
       "\t13 & highvar     & random\\_test & 0.560403807802815   & 0.989296145542093 & 3\\\\\n",
       "\t14 & specific.ob & random\\_test & 0.610702185143374   & 0.980763405745188 & 3\\\\\n",
       "\t15 & DEG         & random\\_test & 0.34399906885139    & 1.01929733885033  & 3\\\\\n",
       "\t16 & cpm         & random\\_test & 0.0477929574399045  & 1.07761446087716  & 4\\\\\n",
       "\t17 & highexp     & random\\_test & 0.671262901710758   & 0.977967268188676 & 4\\\\\n",
       "\t18 & highvar     & random\\_test & 0.702652969437614   & 0.954048823798594 & 4\\\\\n",
       "\t19 & specific.ob & random\\_test & 0.00173052067069845 & 1.24709601946996  & 4\\\\\n",
       "\t20 & DEG         & random\\_test & 0.693217163054084   & 0.97824901755247  & 4\\\\\n",
       "\t21 & cpm         & random\\_test & 0.863048460303805   & 0.953091254891516 & 5\\\\\n",
       "\t22 & highexp     & random\\_test & 0.651895816820613   & 0.980723698530243 & 5\\\\\n",
       "\t23 & highvar     & random\\_test & 0.339727050455629   & 1.0431614728054   & 5\\\\\n",
       "\t24 & specific.ob & random\\_test & 0.5498935974967     & 0.992754247317286 & 5\\\\\n",
       "\t25 & DEG         & random\\_test & 0.0814973298334319  & 1.06587747157268  & 5\\\\\n",
       "\t26 & cpm         & random\\_test & 0.64766777442977    & 0.98412610370534  & 6\\\\\n",
       "\t27 & highexp     & random\\_test & 0.807249146779115   & 0.956128995749    & 6\\\\\n",
       "\t28 & highvar     & random\\_test & 0.410817996074886   & 1.0250683522464   & 6\\\\\n",
       "\t29 & specific.ob & random\\_test & 0.640261380478966   & 0.97479169739669  & 6\\\\\n",
       "\t30 & DEG         & random\\_test & 0.209411548121335   & 1.03814182237685  & 6\\\\\n",
       "\t⋮ & ⋮ & ⋮ & ⋮ & ⋮ & ⋮\\\\\n",
       "\t49971 & cpm         & random\\_test & 0.526619354123206 & 0.997938545972358 & 9995 \\\\\n",
       "\t49972 & highexp     & random\\_test & 0.651895816820613 & 0.980723698530243 & 9995 \\\\\n",
       "\t49973 & highvar     & random\\_test & 0.903275406490635 & 0.885181962782395 & 9995 \\\\\n",
       "\t49974 & specific.ob & random\\_test & 0.817976723846854 & 0.933490374245266 & 9995 \\\\\n",
       "\t49975 & DEG         & random\\_test & 0.34399906885139  & 1.01929733885033  & 9995 \\\\\n",
       "\t49976 & cpm         & random\\_test & 0.782608396546393 & 0.966577975286967 & 9996 \\\\\n",
       "\t49977 & highexp     & random\\_test & 0.726546503215493 & 0.969723373818554 & 9996 \\\\\n",
       "\t49978 & highvar     & random\\_test & 0.485224563594019 & 1.0071140031018   & 9996 \\\\\n",
       "\t49979 & specific.ob & random\\_test & 0.92794754252291  & 0.892940142260637 & 9996 \\\\\n",
       "\t49980 & DEG         & random\\_test & 0.914555783440268 & 0.940388774862551 & 9996 \\\\\n",
       "\t49981 & cpm         & random\\_test & 0.596835070843789 & 0.990028044455935 & 9997 \\\\\n",
       "\t49982 & highexp     & random\\_test & 0.690187677477166 & 0.975215073340069 & 9997 \\\\\n",
       "\t49983 & highvar     & random\\_test & 0.410817996074886 & 1.0250683522464   & 9997 \\\\\n",
       "\t49984 & specific.ob & random\\_test & 0.610702185143374 & 0.980763405745188 & 9997 \\\\\n",
       "\t49985 & DEG         & random\\_test & 0.739323945349839 & 0.972199295736818 & 9997 \\\\\n",
       "\t49986 & cpm         & random\\_test & 0.561965546507089 & 0.993977386431742 & 9998 \\\\\n",
       "\t49987 & highexp     & random\\_test & 0.550112817269759 & 0.994570272424794 & 9998 \\\\\n",
       "\t49988 & highvar     & random\\_test & 0.243933758809191 & 1.07056344352548  & 9998 \\\\\n",
       "\t49989 & specific.ob & random\\_test & 0.749228801338873 & 0.951062189394761 & 9998 \\\\\n",
       "\t49990 & DEG         & random\\_test & 0.739323945349839 & 0.972199295736818 & 9998 \\\\\n",
       "\t49991 & cpm         & random\\_test & 0.842461901601153 & 0.956930266731993 & 9999 \\\\\n",
       "\t49992 & highexp     & random\\_test & 0.760682989899601 & 0.964309602492469 & 9999 \\\\\n",
       "\t49993 & highvar     & random\\_test & 0.702652969437614 & 0.954048823798594 & 9999 \\\\\n",
       "\t49994 & specific.ob & random\\_test & 0.796462574116016 & 0.939352410399979 & 9999 \\\\\n",
       "\t49995 & DEG         & random\\_test & 0.863473669154933 & 0.952228628820945 & 9999 \\\\\n",
       "\t49996 & cpm         & random\\_test & 0.953185234859003 & 0.9284141721531   & 10000\\\\\n",
       "\t49997 & highexp     & random\\_test & 0.919266708238867 & 0.929195807198241 & 10000\\\\\n",
       "\t49998 & highvar     & random\\_test & 0.339727050455629 & 1.0431614728054   & 10000\\\\\n",
       "\t49999 & specific.ob & random\\_test & 0.796462574116016 & 0.939352410399979 & 10000\\\\\n",
       "\t50000 & DEG         & random\\_test & 0.44830301469108  & 1.00684534739668  & 10000\\\\\n",
       "\\end{tabular}\n"
      ],
      "text/markdown": [
       "\n",
       "A data.frame: 50000 × 5\n",
       "\n",
       "| <!--/--> | Type &lt;chr&gt; | background &lt;chr&gt; | pvalue &lt;chr&gt; | oddvalue &lt;chr&gt; | Simulate &lt;chr&gt; |\n",
       "|---|---|---|---|---|---|\n",
       "| 1 | cpm         | random_test | 0.561965546507089   | 0.993977386431742 | 1 |\n",
       "| 2 | highexp     | random_test | 0.0978322770855835  | 1.0713369092335   | 1 |\n",
       "| 3 | highvar     | random_test | 0.00437885638610908 | 1.27145188419539  | 1 |\n",
       "| 4 | specific.ob | random_test | 0.889357104373211   | 0.910216655726144 | 1 |\n",
       "| 5 | DEG         | random_test | 0.991206259297046   | 0.897871638275739 | 1 |\n",
       "| 6 | cpm         | random_test | 0.0435450317531383  | 1.07971982014694  | 2 |\n",
       "| 7 | highexp     | random_test | 0.0214352656014537  | 1.11251370911869  | 2 |\n",
       "| 8 | highvar     | random_test | 0.339727050455629   | 1.0431614728054   | 2 |\n",
       "| 9 | specific.ob | random_test | 0.426574268707167   | 1.01693055789121  | 2 |\n",
       "| 10 | DEG         | random_test | 0.088509073607824   | 1.06372574361     | 2 |\n",
       "| 11 | cpm         | random_test | 0.259256213390345   | 1.03008855958415  | 3 |\n",
       "| 12 | highexp     | random_test | 0.163630850634933   | 1.05397426663599  | 3 |\n",
       "| 13 | highvar     | random_test | 0.560403807802815   | 0.989296145542093 | 3 |\n",
       "| 14 | specific.ob | random_test | 0.610702185143374   | 0.980763405745188 | 3 |\n",
       "| 15 | DEG         | random_test | 0.34399906885139    | 1.01929733885033  | 3 |\n",
       "| 16 | cpm         | random_test | 0.0477929574399045  | 1.07761446087716  | 4 |\n",
       "| 17 | highexp     | random_test | 0.671262901710758   | 0.977967268188676 | 4 |\n",
       "| 18 | highvar     | random_test | 0.702652969437614   | 0.954048823798594 | 4 |\n",
       "| 19 | specific.ob | random_test | 0.00173052067069845 | 1.24709601946996  | 4 |\n",
       "| 20 | DEG         | random_test | 0.693217163054084   | 0.97824901755247  | 4 |\n",
       "| 21 | cpm         | random_test | 0.863048460303805   | 0.953091254891516 | 5 |\n",
       "| 22 | highexp     | random_test | 0.651895816820613   | 0.980723698530243 | 5 |\n",
       "| 23 | highvar     | random_test | 0.339727050455629   | 1.0431614728054   | 5 |\n",
       "| 24 | specific.ob | random_test | 0.5498935974967     | 0.992754247317286 | 5 |\n",
       "| 25 | DEG         | random_test | 0.0814973298334319  | 1.06587747157268  | 5 |\n",
       "| 26 | cpm         | random_test | 0.64766777442977    | 0.98412610370534  | 6 |\n",
       "| 27 | highexp     | random_test | 0.807249146779115   | 0.956128995749    | 6 |\n",
       "| 28 | highvar     | random_test | 0.410817996074886   | 1.0250683522464   | 6 |\n",
       "| 29 | specific.ob | random_test | 0.640261380478966   | 0.97479169739669  | 6 |\n",
       "| 30 | DEG         | random_test | 0.209411548121335   | 1.03814182237685  | 6 |\n",
       "| ⋮ | ⋮ | ⋮ | ⋮ | ⋮ | ⋮ |\n",
       "| 49971 | cpm         | random_test | 0.526619354123206 | 0.997938545972358 | 9995  |\n",
       "| 49972 | highexp     | random_test | 0.651895816820613 | 0.980723698530243 | 9995  |\n",
       "| 49973 | highvar     | random_test | 0.903275406490635 | 0.885181962782395 | 9995  |\n",
       "| 49974 | specific.ob | random_test | 0.817976723846854 | 0.933490374245266 | 9995  |\n",
       "| 49975 | DEG         | random_test | 0.34399906885139  | 1.01929733885033  | 9995  |\n",
       "| 49976 | cpm         | random_test | 0.782608396546393 | 0.966577975286967 | 9996  |\n",
       "| 49977 | highexp     | random_test | 0.726546503215493 | 0.969723373818554 | 9996  |\n",
       "| 49978 | highvar     | random_test | 0.485224563594019 | 1.0071140031018   | 9996  |\n",
       "| 49979 | specific.ob | random_test | 0.92794754252291  | 0.892940142260637 | 9996  |\n",
       "| 49980 | DEG         | random_test | 0.914555783440268 | 0.940388774862551 | 9996  |\n",
       "| 49981 | cpm         | random_test | 0.596835070843789 | 0.990028044455935 | 9997  |\n",
       "| 49982 | highexp     | random_test | 0.690187677477166 | 0.975215073340069 | 9997  |\n",
       "| 49983 | highvar     | random_test | 0.410817996074886 | 1.0250683522464   | 9997  |\n",
       "| 49984 | specific.ob | random_test | 0.610702185143374 | 0.980763405745188 | 9997  |\n",
       "| 49985 | DEG         | random_test | 0.739323945349839 | 0.972199295736818 | 9997  |\n",
       "| 49986 | cpm         | random_test | 0.561965546507089 | 0.993977386431742 | 9998  |\n",
       "| 49987 | highexp     | random_test | 0.550112817269759 | 0.994570272424794 | 9998  |\n",
       "| 49988 | highvar     | random_test | 0.243933758809191 | 1.07056344352548  | 9998  |\n",
       "| 49989 | specific.ob | random_test | 0.749228801338873 | 0.951062189394761 | 9998  |\n",
       "| 49990 | DEG         | random_test | 0.739323945349839 | 0.972199295736818 | 9998  |\n",
       "| 49991 | cpm         | random_test | 0.842461901601153 | 0.956930266731993 | 9999  |\n",
       "| 49992 | highexp     | random_test | 0.760682989899601 | 0.964309602492469 | 9999  |\n",
       "| 49993 | highvar     | random_test | 0.702652969437614 | 0.954048823798594 | 9999  |\n",
       "| 49994 | specific.ob | random_test | 0.796462574116016 | 0.939352410399979 | 9999  |\n",
       "| 49995 | DEG         | random_test | 0.863473669154933 | 0.952228628820945 | 9999  |\n",
       "| 49996 | cpm         | random_test | 0.953185234859003 | 0.9284141721531   | 10000 |\n",
       "| 49997 | highexp     | random_test | 0.919266708238867 | 0.929195807198241 | 10000 |\n",
       "| 49998 | highvar     | random_test | 0.339727050455629 | 1.0431614728054   | 10000 |\n",
       "| 49999 | specific.ob | random_test | 0.796462574116016 | 0.939352410399979 | 10000 |\n",
       "| 50000 | DEG         | random_test | 0.44830301469108  | 1.00684534739668  | 10000 |\n",
       "\n"
      ],
      "text/plain": [
       "      Type        background  pvalue              oddvalue          Simulate\n",
       "1     cpm         random_test 0.561965546507089   0.993977386431742 1       \n",
       "2     highexp     random_test 0.0978322770855835  1.0713369092335   1       \n",
       "3     highvar     random_test 0.00437885638610908 1.27145188419539  1       \n",
       "4     specific.ob random_test 0.889357104373211   0.910216655726144 1       \n",
       "5     DEG         random_test 0.991206259297046   0.897871638275739 1       \n",
       "6     cpm         random_test 0.0435450317531383  1.07971982014694  2       \n",
       "7     highexp     random_test 0.0214352656014537  1.11251370911869  2       \n",
       "8     highvar     random_test 0.339727050455629   1.0431614728054   2       \n",
       "9     specific.ob random_test 0.426574268707167   1.01693055789121  2       \n",
       "10    DEG         random_test 0.088509073607824   1.06372574361     2       \n",
       "11    cpm         random_test 0.259256213390345   1.03008855958415  3       \n",
       "12    highexp     random_test 0.163630850634933   1.05397426663599  3       \n",
       "13    highvar     random_test 0.560403807802815   0.989296145542093 3       \n",
       "14    specific.ob random_test 0.610702185143374   0.980763405745188 3       \n",
       "15    DEG         random_test 0.34399906885139    1.01929733885033  3       \n",
       "16    cpm         random_test 0.0477929574399045  1.07761446087716  4       \n",
       "17    highexp     random_test 0.671262901710758   0.977967268188676 4       \n",
       "18    highvar     random_test 0.702652969437614   0.954048823798594 4       \n",
       "19    specific.ob random_test 0.00173052067069845 1.24709601946996  4       \n",
       "20    DEG         random_test 0.693217163054084   0.97824901755247  4       \n",
       "21    cpm         random_test 0.863048460303805   0.953091254891516 5       \n",
       "22    highexp     random_test 0.651895816820613   0.980723698530243 5       \n",
       "23    highvar     random_test 0.339727050455629   1.0431614728054   5       \n",
       "24    specific.ob random_test 0.5498935974967     0.992754247317286 5       \n",
       "25    DEG         random_test 0.0814973298334319  1.06587747157268  5       \n",
       "26    cpm         random_test 0.64766777442977    0.98412610370534  6       \n",
       "27    highexp     random_test 0.807249146779115   0.956128995749    6       \n",
       "28    highvar     random_test 0.410817996074886   1.0250683522464   6       \n",
       "29    specific.ob random_test 0.640261380478966   0.97479169739669  6       \n",
       "30    DEG         random_test 0.209411548121335   1.03814182237685  6       \n",
       "⋮     ⋮           ⋮           ⋮                   ⋮                 ⋮       \n",
       "49971 cpm         random_test 0.526619354123206   0.997938545972358 9995    \n",
       "49972 highexp     random_test 0.651895816820613   0.980723698530243 9995    \n",
       "49973 highvar     random_test 0.903275406490635   0.885181962782395 9995    \n",
       "49974 specific.ob random_test 0.817976723846854   0.933490374245266 9995    \n",
       "49975 DEG         random_test 0.34399906885139    1.01929733885033  9995    \n",
       "49976 cpm         random_test 0.782608396546393   0.966577975286967 9996    \n",
       "49977 highexp     random_test 0.726546503215493   0.969723373818554 9996    \n",
       "49978 highvar     random_test 0.485224563594019   1.0071140031018   9996    \n",
       "49979 specific.ob random_test 0.92794754252291    0.892940142260637 9996    \n",
       "49980 DEG         random_test 0.914555783440268   0.940388774862551 9996    \n",
       "49981 cpm         random_test 0.596835070843789   0.990028044455935 9997    \n",
       "49982 highexp     random_test 0.690187677477166   0.975215073340069 9997    \n",
       "49983 highvar     random_test 0.410817996074886   1.0250683522464   9997    \n",
       "49984 specific.ob random_test 0.610702185143374   0.980763405745188 9997    \n",
       "49985 DEG         random_test 0.739323945349839   0.972199295736818 9997    \n",
       "49986 cpm         random_test 0.561965546507089   0.993977386431742 9998    \n",
       "49987 highexp     random_test 0.550112817269759   0.994570272424794 9998    \n",
       "49988 highvar     random_test 0.243933758809191   1.07056344352548  9998    \n",
       "49989 specific.ob random_test 0.749228801338873   0.951062189394761 9998    \n",
       "49990 DEG         random_test 0.739323945349839   0.972199295736818 9998    \n",
       "49991 cpm         random_test 0.842461901601153   0.956930266731993 9999    \n",
       "49992 highexp     random_test 0.760682989899601   0.964309602492469 9999    \n",
       "49993 highvar     random_test 0.702652969437614   0.954048823798594 9999    \n",
       "49994 specific.ob random_test 0.796462574116016   0.939352410399979 9999    \n",
       "49995 DEG         random_test 0.863473669154933   0.952228628820945 9999    \n",
       "49996 cpm         random_test 0.953185234859003   0.9284141721531   10000   \n",
       "49997 highexp     random_test 0.919266708238867   0.929195807198241 10000   \n",
       "49998 highvar     random_test 0.339727050455629   1.0431614728054   10000   \n",
       "49999 specific.ob random_test 0.796462574116016   0.939352410399979 10000   \n",
       "50000 DEG         random_test 0.44830301469108    1.00684534739668  10000   "
      ]
     },
     "metadata": {},
     "output_type": "display_data"
    }
   ],
   "source": [
    "sampleN=2877\n",
    "out.all = data.frame(matrix(vector(), 0, 5,\n",
    "                dimnames=list(c(), c(\"Type\",\"RGB_model\",\"pvalue\",\"oddvalue\",\"Simulate\"))),\n",
    "                stringsAsFactors=F)\n",
    "pb=txtProgressBar(style=3)\n",
    "times=10000\n",
    "for (i in 1:times) {\n",
    "    #i=1\n",
    "    tmp.df<-as.data.frame(fisher_test_batch(all_cpm,\n",
    "                        all_cpm %>% filter(geneid %in% all_cpm[sample(nrow(all_cpm),sampleN),1])))\n",
    "\n",
    "    out.all[dim(out.all)[1]+1,] = c(\"cpm\",\"random_test\",tmp.df$cpm.pvalue[1],tmp.df$cpm.oddvalue[1],i)\n",
    "    out.all[dim(out.all)[1]+1,] = c(\"highexp\",\"random_test\",tmp.df$highexp.pvalue[1],tmp.df$highexp.oddvalue[1],i)\n",
    "    out.all[dim(out.all)[1]+1,] = c(\"highvar\",\"random_test\",tmp.df$highvar.pvalue[1],tmp.df$highvar.oddvalue[1],i)\n",
    "    #out.all[dim(out.all)[1]+1,] = c(\"specific\",\"random_test\",tmp.df$specific.pvalue[1],tmp.df$specific.oddvalue[1],i)\n",
    "    out.all[dim(out.all)[1]+1,] = c(\"specific.ob\",\"random_test\",tmp.df$specific.ob.pvalue[1],tmp.df$specific.ob.oddvalue[1],i)\n",
    "    out.all[dim(out.all)[1]+1,] = c(\"DEG\",\"random_test\",tmp.df$DEG.pvalue[1],tmp.df$DEG.oddvalue[1],i)\n",
    "    setTxtProgressBar(pb, i/length(1:times))\n",
    "}\n",
    "close(pb)\n",
    "names(out.all)=c(\"Type\",\"background\",\"pvalue\",\"oddvalue\",\"Simulate\")\n",
    "out.all"
   ]
  },
  {
   "cell_type": "code",
   "execution_count": 11,
   "id": "87d0dda5-98cf-498d-be8a-68fc229ee7ce",
   "metadata": {},
   "outputs": [],
   "source": [
    "write.csv(out.all,\"./10000Simulate_Enrichment_result.csv\")\n",
    "write.csv(RBG.out.all,\"./RBG_Enrichment_result.csv\")"
   ]
  },
  {
   "cell_type": "code",
   "execution_count": 12,
   "id": "efbb4a65-1502-45c4-af23-14a0aa199182",
   "metadata": {},
   "outputs": [
    {
     "name": "stdout",
     "output_type": "stream",
     "text": [
      "         Type background               pvalue oddvalue   Simulate\n",
      "1         cpm  RGB_model 6.49004134083638e-10 1.304933 RGB_reslut\n",
      "2     highexp  RGB_model  5.0577406570755e-08 1.313832 RGB_reslut\n",
      "3     highvar  RGB_model   0.0235485967129932 1.202660 RGB_reslut\n",
      "4 specific.ob  RGB_model 1.42347808192663e-05 1.364192 RGB_reslut\n",
      "5         DEG  RGB_model 3.86997916012241e-05 1.194107 RGB_reslut\n",
      "  empirical_pvalue\n",
      "1       0.00009999\n",
      "2       0.00009999\n",
      "3       0.02469753\n",
      "4       0.00019998\n",
      "5       0.00009999\n"
     ]
    }
   ],
   "source": [
    "# --- 2. Convert 'oddvalue' columns to numeric ---\n",
    "RBG.out.all$oddvalue <- as.numeric(RBG.out.all$oddvalue)\n",
    "out.all$oddvalue <- as.numeric(out.all$oddvalue)\n",
    "\n",
    "# --- 3. Calculate empirical p-values ---\n",
    "# Initialize a vector to store the empirical p-values\n",
    "empirical_p_values <- numeric(nrow(RBG.out.all))\n",
    "names(empirical_p_values) <- RBG.out.all$Type\n",
    "\n",
    "# Loop through each 'Type' in your observed results\n",
    "for (i in 1:nrow(RBG.out.all)) {\n",
    "  current_type <- RBG.out.all$Type[i]\n",
    "  observed_oddvalue <- RBG.out.all$oddvalue[i]\n",
    "  \n",
    "  # Filter the simulation results for the current type\n",
    "  simulations_for_type <- out.all[out.all$Type == current_type, ]\n",
    "  \n",
    "  # Get the oddvalues from these simulations\n",
    "  simulated_oddvalues <- simulations_for_type$oddvalue\n",
    "  \n",
    "  # Number of simulations for this specific type\n",
    "  n_simulations <- length(simulated_oddvalues)\n",
    "  \n",
    "  if (n_simulations == 0) {\n",
    "    empirical_p_values[i] <- NA # Or some other indicator if no simulations found\n",
    "    warning(paste(\"No simulations found for Type:\", current_type))\n",
    "    next\n",
    "  }\n",
    "  \n",
    "  # Count how many simulated oddvalues are greater than or equal to the observed oddvalue\n",
    "  # This assumes a higher oddvalue means more significant enrichment.\n",
    "  count_extreme_or_more <- sum(simulated_oddvalues >= observed_oddvalue, na.rm = TRUE)\n",
    "  \n",
    "  # Calculate empirical p-value\n",
    "  emp_p_val <- (count_extreme_or_more + 1) / (n_simulations + 1)\n",
    "  empirical_p_values[i] <- emp_p_val\n",
    "}\n",
    "\n",
    "# --- 4. Add empirical p-values to your observed results data frame ---\n",
    "RBG.out.all$empirical_pvalue <- empirical_p_values\n",
    "\n",
    "# --- 5. Display the results ---\n",
    "print(RBG.out.all)\n"
   ]
  },
  {
   "cell_type": "code",
   "execution_count": 13,
   "id": "c45d263e-27ae-40a2-82e7-87b09675b9ff",
   "metadata": {},
   "outputs": [
    {
     "data": {
      "text/html": [
       "<table class=\"dataframe\">\n",
       "<caption>A data.frame: 5 × 6</caption>\n",
       "<thead>\n",
       "\t<tr><th></th><th scope=col>Type</th><th scope=col>background</th><th scope=col>pvalue</th><th scope=col>oddvalue</th><th scope=col>Simulate</th><th scope=col>empirical_pvalue</th></tr>\n",
       "\t<tr><th></th><th scope=col>&lt;chr&gt;</th><th scope=col>&lt;chr&gt;</th><th scope=col>&lt;chr&gt;</th><th scope=col>&lt;dbl&gt;</th><th scope=col>&lt;chr&gt;</th><th scope=col>&lt;dbl&gt;</th></tr>\n",
       "</thead>\n",
       "<tbody>\n",
       "\t<tr><th scope=row>1</th><td>cpm        </td><td>RGB_model</td><td>6.49004134083638e-10</td><td>1.304933</td><td>RGB_reslut</td><td>0.00009999</td></tr>\n",
       "\t<tr><th scope=row>2</th><td>highexp    </td><td>RGB_model</td><td>5.0577406570755e-08 </td><td>1.313832</td><td>RGB_reslut</td><td>0.00009999</td></tr>\n",
       "\t<tr><th scope=row>3</th><td>highvar    </td><td>RGB_model</td><td>0.0235485967129932  </td><td>1.202660</td><td>RGB_reslut</td><td>0.02469753</td></tr>\n",
       "\t<tr><th scope=row>4</th><td>specific.ob</td><td>RGB_model</td><td>1.42347808192663e-05</td><td>1.364192</td><td>RGB_reslut</td><td>0.00019998</td></tr>\n",
       "\t<tr><th scope=row>5</th><td>DEG        </td><td>RGB_model</td><td>3.86997916012241e-05</td><td>1.194107</td><td>RGB_reslut</td><td>0.00009999</td></tr>\n",
       "</tbody>\n",
       "</table>\n"
      ],
      "text/latex": [
       "A data.frame: 5 × 6\n",
       "\\begin{tabular}{r|llllll}\n",
       "  & Type & background & pvalue & oddvalue & Simulate & empirical\\_pvalue\\\\\n",
       "  & <chr> & <chr> & <chr> & <dbl> & <chr> & <dbl>\\\\\n",
       "\\hline\n",
       "\t1 & cpm         & RGB\\_model & 6.49004134083638e-10 & 1.304933 & RGB\\_reslut & 0.00009999\\\\\n",
       "\t2 & highexp     & RGB\\_model & 5.0577406570755e-08  & 1.313832 & RGB\\_reslut & 0.00009999\\\\\n",
       "\t3 & highvar     & RGB\\_model & 0.0235485967129932   & 1.202660 & RGB\\_reslut & 0.02469753\\\\\n",
       "\t4 & specific.ob & RGB\\_model & 1.42347808192663e-05 & 1.364192 & RGB\\_reslut & 0.00019998\\\\\n",
       "\t5 & DEG         & RGB\\_model & 3.86997916012241e-05 & 1.194107 & RGB\\_reslut & 0.00009999\\\\\n",
       "\\end{tabular}\n"
      ],
      "text/markdown": [
       "\n",
       "A data.frame: 5 × 6\n",
       "\n",
       "| <!--/--> | Type &lt;chr&gt; | background &lt;chr&gt; | pvalue &lt;chr&gt; | oddvalue &lt;dbl&gt; | Simulate &lt;chr&gt; | empirical_pvalue &lt;dbl&gt; |\n",
       "|---|---|---|---|---|---|---|\n",
       "| 1 | cpm         | RGB_model | 6.49004134083638e-10 | 1.304933 | RGB_reslut | 0.00009999 |\n",
       "| 2 | highexp     | RGB_model | 5.0577406570755e-08  | 1.313832 | RGB_reslut | 0.00009999 |\n",
       "| 3 | highvar     | RGB_model | 0.0235485967129932   | 1.202660 | RGB_reslut | 0.02469753 |\n",
       "| 4 | specific.ob | RGB_model | 1.42347808192663e-05 | 1.364192 | RGB_reslut | 0.00019998 |\n",
       "| 5 | DEG         | RGB_model | 3.86997916012241e-05 | 1.194107 | RGB_reslut | 0.00009999 |\n",
       "\n"
      ],
      "text/plain": [
       "  Type        background pvalue               oddvalue Simulate  \n",
       "1 cpm         RGB_model  6.49004134083638e-10 1.304933 RGB_reslut\n",
       "2 highexp     RGB_model  5.0577406570755e-08  1.313832 RGB_reslut\n",
       "3 highvar     RGB_model  0.0235485967129932   1.202660 RGB_reslut\n",
       "4 specific.ob RGB_model  1.42347808192663e-05 1.364192 RGB_reslut\n",
       "5 DEG         RGB_model  3.86997916012241e-05 1.194107 RGB_reslut\n",
       "  empirical_pvalue\n",
       "1 0.00009999      \n",
       "2 0.00009999      \n",
       "3 0.02469753      \n",
       "4 0.00019998      \n",
       "5 0.00009999      "
      ]
     },
     "metadata": {},
     "output_type": "display_data"
    }
   ],
   "source": [
    "RBG.out.all"
   ]
  },
  {
   "cell_type": "code",
   "execution_count": 14,
   "id": "05cbace8-118b-4e0f-b269-4211bcdcea1b",
   "metadata": {},
   "outputs": [
    {
     "data": {
      "text/html": [
       "<table class=\"dataframe\">\n",
       "<caption>A data.frame: 6 × 5</caption>\n",
       "<thead>\n",
       "\t<tr><th></th><th scope=col>Type</th><th scope=col>background</th><th scope=col>pvalue</th><th scope=col>oddvalue</th><th scope=col>Simulate</th></tr>\n",
       "\t<tr><th></th><th scope=col>&lt;chr&gt;</th><th scope=col>&lt;chr&gt;</th><th scope=col>&lt;chr&gt;</th><th scope=col>&lt;dbl&gt;</th><th scope=col>&lt;chr&gt;</th></tr>\n",
       "</thead>\n",
       "<tbody>\n",
       "\t<tr><th scope=row>1</th><td>cpm        </td><td>random_test</td><td>0.561965546507089  </td><td>0.9939774</td><td>1</td></tr>\n",
       "\t<tr><th scope=row>2</th><td>highexp    </td><td>random_test</td><td>0.0978322770855835 </td><td>1.0713369</td><td>1</td></tr>\n",
       "\t<tr><th scope=row>3</th><td>highvar    </td><td>random_test</td><td>0.00437885638610908</td><td>1.2714519</td><td>1</td></tr>\n",
       "\t<tr><th scope=row>4</th><td>specific.ob</td><td>random_test</td><td>0.889357104373211  </td><td>0.9102167</td><td>1</td></tr>\n",
       "\t<tr><th scope=row>5</th><td>DEG        </td><td>random_test</td><td>0.991206259297046  </td><td>0.8978716</td><td>1</td></tr>\n",
       "\t<tr><th scope=row>6</th><td>cpm        </td><td>random_test</td><td>0.0435450317531383 </td><td>1.0797198</td><td>2</td></tr>\n",
       "</tbody>\n",
       "</table>\n"
      ],
      "text/latex": [
       "A data.frame: 6 × 5\n",
       "\\begin{tabular}{r|lllll}\n",
       "  & Type & background & pvalue & oddvalue & Simulate\\\\\n",
       "  & <chr> & <chr> & <chr> & <dbl> & <chr>\\\\\n",
       "\\hline\n",
       "\t1 & cpm         & random\\_test & 0.561965546507089   & 0.9939774 & 1\\\\\n",
       "\t2 & highexp     & random\\_test & 0.0978322770855835  & 1.0713369 & 1\\\\\n",
       "\t3 & highvar     & random\\_test & 0.00437885638610908 & 1.2714519 & 1\\\\\n",
       "\t4 & specific.ob & random\\_test & 0.889357104373211   & 0.9102167 & 1\\\\\n",
       "\t5 & DEG         & random\\_test & 0.991206259297046   & 0.8978716 & 1\\\\\n",
       "\t6 & cpm         & random\\_test & 0.0435450317531383  & 1.0797198 & 2\\\\\n",
       "\\end{tabular}\n"
      ],
      "text/markdown": [
       "\n",
       "A data.frame: 6 × 5\n",
       "\n",
       "| <!--/--> | Type &lt;chr&gt; | background &lt;chr&gt; | pvalue &lt;chr&gt; | oddvalue &lt;dbl&gt; | Simulate &lt;chr&gt; |\n",
       "|---|---|---|---|---|---|\n",
       "| 1 | cpm         | random_test | 0.561965546507089   | 0.9939774 | 1 |\n",
       "| 2 | highexp     | random_test | 0.0978322770855835  | 1.0713369 | 1 |\n",
       "| 3 | highvar     | random_test | 0.00437885638610908 | 1.2714519 | 1 |\n",
       "| 4 | specific.ob | random_test | 0.889357104373211   | 0.9102167 | 1 |\n",
       "| 5 | DEG         | random_test | 0.991206259297046   | 0.8978716 | 1 |\n",
       "| 6 | cpm         | random_test | 0.0435450317531383  | 1.0797198 | 2 |\n",
       "\n"
      ],
      "text/plain": [
       "  Type        background  pvalue              oddvalue  Simulate\n",
       "1 cpm         random_test 0.561965546507089   0.9939774 1       \n",
       "2 highexp     random_test 0.0978322770855835  1.0713369 1       \n",
       "3 highvar     random_test 0.00437885638610908 1.2714519 1       \n",
       "4 specific.ob random_test 0.889357104373211   0.9102167 1       \n",
       "5 DEG         random_test 0.991206259297046   0.8978716 1       \n",
       "6 cpm         random_test 0.0435450317531383  1.0797198 2       "
      ]
     },
     "metadata": {},
     "output_type": "display_data"
    }
   ],
   "source": [
    "head(out.all)"
   ]
  },
  {
   "cell_type": "code",
   "execution_count": 15,
   "id": "bd80a91a-f8a8-4013-8813-8ee9f5799ace",
   "metadata": {},
   "outputs": [
    {
     "data": {
      "image/png": "[encoded data removed]",
      "text/plain": [
       "plot without title"
      ]
     },
     "metadata": {
      "image/png": {
       "height": 420,
       "width": 420
      }
     },
     "output_type": "display_data"
    }
   ],
   "source": [
    "out.all <- out.all %>% mutate(pvalue=as.numeric(as.character(pvalue)),group=ifelse(pvalue<0.05, \"P-value<0.05\", \"Ns.\"))\n",
    "\n",
    "ggplot(out.all,aes(x=oddvalue,group=group))+\n",
    "  # geom_density(aes(x=pvalue))+\n",
    "  geom_histogram(binwidth=0.05,boundary=0)+\n",
    "  stat_bin(aes(y=after_stat(count), label=after_stat(count)),binwidth=0.05, geom=\"text\", vjust=-.05,boundary=0,size=3)+\n",
    "  geom_vline(xintercept = 1,color=\"black\",linetype=\"dashed\")+\n",
    "  geom_vline(data=RBG.out.all, aes(xintercept = oddvalue),color=\"red\",linetype=\"dashed\")+\n",
    "  facet_grid(Type~group)+\n",
    "  theme_minimal()+\n",
    "  labs(caption = \"Random Sample: N=2,877 (times=10,000)\",x=\"oddvalue\",y=\"Counts\")\n",
    "ggsave(\"./10000Simulate_Enrichment_result.pdf\",w=5,h=7)"
   ]
  }
 ],
 "metadata": {
  "kernelspec": {
   "display_name": "Rseurat",
   "language": "R",
   "name": "rseurat"
  },
  "language_info": {
   "codemirror_mode": "r",
   "file_extension": ".r",
   "mimetype": "text/x-r-source",
   "name": "R",
   "pygments_lexer": "r",
   "version": "4.4.2"
  }
 },
 "nbformat": 4,
 "nbformat_minor": 5
}
