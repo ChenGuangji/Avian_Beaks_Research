{
 "cells": [
  {
   "cell_type": "code",
   "execution_count": null,
   "id": "affce05c-53ba-498d-a269-8ef0fba63c6b",
   "metadata": {},
   "outputs": [],
   "source": [
    "library(ape)\n",
    "library(treeio)\n",
    "library(ggtree)\n",
    "library(dplyr)\n",
    "library(ggplot2)\n",
    "library(tibble)\n",
    "library(ggtreeExtra)\n",
    "library(cowplot)"
   ]
  }
 ],
 "metadata": {
  "kernelspec": {
   "display_name": "R",
   "language": "R",
   "name": "ir"
  },
  "language_info": {
   "codemirror_mode": "r",
   "file_extension": ".r",
   "mimetype": "text/x-r-source",
   "name": "R",
   "pygments_lexer": "r",
   "version": "4.2.1"
  },
  "widgets": {
   "application/vnd.jupyter.widget-state+json": {
    "state": {},
    "version_major": 2,
    "version_minor": 0
   }
  }
 },
 "nbformat": 4,
 "nbformat_minor": 5
}
